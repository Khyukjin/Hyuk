{
  "cells": [
    {
      "cell_type": "markdown",
      "id": "7W2Hmeo0SGxr",
      "metadata": {
        "id": "7W2Hmeo0SGxr"
      },
      "source": [
        "## 오늘도 재미있는 파이썬 수업에 함께해주신 학생 여러분 고맙습니다. ㅎㅎ\n",
        "\n",
        "지금까지 우리는 여러 가지 파이썬 문법에 대해 배워보았는데요,\n",
        "\n",
        "- 출력, 입력, 변수(숫자 - 정수, 실수 / 문자 등)\n",
        "\n",
        "- 연산자 (산술 연산자, 비교 연산자, 논리 연산자 등)\n",
        "\n",
        "- 문자열\n",
        "\n",
        "- 리스트, 튜플, 집합, 딕셔너리\n",
        "\n",
        "- 조건문, 반복문\n",
        "\n",
        "- 함수\n",
        "\n",
        "이 문법들은 반복적인 사용을 통해 숙지가 가능하므로, 암기에 대한 부담을 가지실 필요는 전혀 없습니다!!\n",
        "\n",
        "또한 필요한 문법들은 그때그때 검색해보면 되는데요, 다음 링크에 필요한 파이썬 문법이 잘 정리되어 있으니 문제를 풀 때 참고하시면 됩니다!\n",
        "\n",
        "\n",
        "https://wikidocs.net/25\n",
        "\n"
      ]
    },
    {
      "cell_type": "markdown",
      "id": "QRfgar7mPqn7",
      "metadata": {
        "id": "QRfgar7mPqn7"
      },
      "source": [
        "## 그럼, 오늘 배운 함수에 대한 실습을 해봅시다 ~!"
      ]
    },
    {
      "cell_type": "markdown",
      "id": "unRdpH6ITa8S",
      "metadata": {
        "id": "unRdpH6ITa8S"
      },
      "source": [
        "### 함수\n",
        "\n",
        "함수 : 코드 작성자가 임의로 필요한 작업들을 모아 이름을 붙여놓은 것!\n",
        "\n",
        "---\n",
        "\n",
        "#### 함수 선언(생성) 방법\n",
        "\n",
        "```\n",
        "def 함수이름(필요한 매개변수):\n",
        "    실행할 작업들...\n",
        "    return 반환값 # (필요시에만)\n",
        "```\n",
        "\n"
      ]
    },
    {
      "cell_type": "code",
      "execution_count": null,
      "id": "5b0323a4",
      "metadata": {
        "id": "5b0323a4"
      },
      "outputs": [],
      "source": [
        "def sum_xy(x, y):\n",
        "    return x + y\n"
      ]
    },
    {
      "cell_type": "code",
      "execution_count": null,
      "id": "b66e38c3",
      "metadata": {
        "id": "b66e38c3"
      },
      "outputs": [],
      "source": [
        "result = sum_xy(1, 3)\n",
        "print(result)"
      ]
    },
    {
      "cell_type": "code",
      "execution_count": null,
      "id": "31903d47",
      "metadata": {
        "id": "31903d47"
      },
      "outputs": [],
      "source": [
        "print(sum_xy(4, 5) + 7)"
      ]
    },
    {
      "cell_type": "code",
      "execution_count": null,
      "id": "b4d7779b",
      "metadata": {
        "id": "b4d7779b"
      },
      "outputs": [],
      "source": [
        "print(sum_xy(\"아주대학교\", \"좋아요\"))"
      ]
    },
    {
      "cell_type": "code",
      "execution_count": null,
      "id": "113f38b7",
      "metadata": {
        "id": "113f38b7"
      },
      "outputs": [],
      "source": [
        "print(sum_xy(\"아주대학교\", 1))"
      ]
    },
    {
      "cell_type": "code",
      "execution_count": null,
      "id": "GEkJAsXiP6Wn",
      "metadata": {
        "id": "GEkJAsXiP6Wn"
      },
      "outputs": [],
      "source": [
        "print(sum_xy(5))"
      ]
    },
    {
      "cell_type": "code",
      "execution_count": null,
      "id": "0f065f39",
      "metadata": {
        "id": "0f065f39"
      },
      "outputs": [],
      "source": [
        "def sum_xy2():\n",
        "    x = 2\n",
        "    y = 3\n",
        "    return x + y"
      ]
    },
    {
      "cell_type": "code",
      "execution_count": null,
      "id": "bd2a125f",
      "metadata": {
        "id": "bd2a125f"
      },
      "outputs": [],
      "source": [
        "print(sum_xy2())"
      ]
    },
    {
      "cell_type": "code",
      "execution_count": null,
      "id": "2102cc41",
      "metadata": {
        "id": "2102cc41"
      },
      "outputs": [],
      "source": [
        "print(sum_xy2(1))"
      ]
    },
    {
      "cell_type": "code",
      "execution_count": null,
      "id": "ef476315",
      "metadata": {
        "id": "ef476315"
      },
      "outputs": [],
      "source": [
        "def sum_xy3(x = 2, y = 3):\n",
        "    return x + y"
      ]
    },
    {
      "cell_type": "code",
      "execution_count": null,
      "id": "6cc828b0",
      "metadata": {
        "id": "6cc828b0"
      },
      "outputs": [],
      "source": [
        "print(sum_xy3(3,4))"
      ]
    },
    {
      "cell_type": "code",
      "execution_count": null,
      "id": "e6486d3d",
      "metadata": {
        "id": "e6486d3d"
      },
      "outputs": [],
      "source": [
        "print(sum_xy3())"
      ]
    },
    {
      "cell_type": "code",
      "execution_count": null,
      "id": "6db38440",
      "metadata": {
        "id": "6db38440"
      },
      "outputs": [],
      "source": [
        "print(sum_xy3(7))"
      ]
    },
    {
      "cell_type": "code",
      "execution_count": null,
      "id": "Wocr9jaKQeTw",
      "metadata": {
        "id": "Wocr9jaKQeTw"
      },
      "outputs": [],
      "source": [
        "print(sum_xy3(y = 10))"
      ]
    },
    {
      "cell_type": "code",
      "execution_count": null,
      "id": "f4d718a5",
      "metadata": {
        "id": "f4d718a5"
      },
      "outputs": [],
      "source": [
        "def sum_mul(x, y):\n",
        "    return x + y, x * y"
      ]
    },
    {
      "cell_type": "code",
      "execution_count": null,
      "id": "9c580487",
      "metadata": {
        "id": "9c580487"
      },
      "outputs": [],
      "source": [
        "a = sum_mul(2, 3)\n",
        "print(a, type(a))"
      ]
    },
    {
      "cell_type": "code",
      "execution_count": null,
      "id": "5200cd4e",
      "metadata": {
        "id": "5200cd4e"
      },
      "outputs": [],
      "source": [
        "a, b = sum_mul(2, 3)\n",
        "print(a, b)"
      ]
    },
    {
      "cell_type": "code",
      "execution_count": null,
      "id": "9d5d2159",
      "metadata": {
        "id": "9d5d2159"
      },
      "outputs": [],
      "source": [
        "def test(x = 2, y = 3):\n",
        "    return x + y, x * y, x ** y"
      ]
    },
    {
      "cell_type": "code",
      "execution_count": null,
      "id": "585e0e31",
      "metadata": {
        "id": "585e0e31"
      },
      "outputs": [],
      "source": [
        "a = test()\n",
        "print(a)"
      ]
    },
    {
      "cell_type": "code",
      "execution_count": null,
      "id": "06412fb3",
      "metadata": {
        "id": "06412fb3"
      },
      "outputs": [],
      "source": [
        "a, b, c = test()\n",
        "print(a, b, c)"
      ]
    },
    {
      "cell_type": "code",
      "execution_count": null,
      "id": "f3876980",
      "metadata": {
        "id": "f3876980"
      },
      "outputs": [],
      "source": [
        "a, b = test()\n",
        "print(a, b)"
      ]
    },
    {
      "cell_type": "code",
      "execution_count": null,
      "id": "4c0dec5d",
      "metadata": {
        "id": "4c0dec5d"
      },
      "outputs": [],
      "source": [
        "print(test(3, 2))"
      ]
    },
    {
      "cell_type": "code",
      "execution_count": null,
      "id": "ac916f6c",
      "metadata": {
        "id": "ac916f6c"
      },
      "outputs": [],
      "source": [
        "print(test(y = 4, x = 3))"
      ]
    },
    {
      "cell_type": "code",
      "execution_count": null,
      "id": "4e2c140b",
      "metadata": {
        "id": "4e2c140b"
      },
      "outputs": [],
      "source": [
        "def squareArea(x, y):\n",
        "    m = x * y\n",
        "    return m"
      ]
    },
    {
      "cell_type": "code",
      "execution_count": null,
      "id": "bf268400",
      "metadata": {
        "id": "bf268400"
      },
      "outputs": [],
      "source": [
        "print(squareArea(5, 10))"
      ]
    },
    {
      "cell_type": "code",
      "execution_count": null,
      "id": "20b024c7",
      "metadata": {
        "id": "20b024c7"
      },
      "outputs": [],
      "source": [
        "print(squareArea(\"I WANT TO GO HOME... \", 10))"
      ]
    },
    {
      "cell_type": "code",
      "execution_count": null,
      "id": "b25c9e6a",
      "metadata": {
        "id": "b25c9e6a"
      },
      "outputs": [],
      "source": [
        "def squareArea(x, y):\n",
        "    if (type(x) == int or type(x) == float) and (type(y) == int or type(y) == float):\n",
        "        if x > 0 and y > 0:\n",
        "            m = x * y\n",
        "            return m\n",
        "        else:\n",
        "            print(\"입력값은 양의 실수여야 합니다.\")\n",
        "    else:\n",
        "        print(\"입력값은 숫자여야 합니다.\")"
      ]
    },
    {
      "cell_type": "code",
      "execution_count": null,
      "id": "858b2593",
      "metadata": {
        "id": "858b2593"
      },
      "outputs": [],
      "source": [
        "print(squareArea(3,5))"
      ]
    },
    {
      "cell_type": "code",
      "execution_count": null,
      "id": "8cf9ed18",
      "metadata": {
        "id": "8cf9ed18"
      },
      "outputs": [],
      "source": [
        "print(squareArea(-3,5))"
      ]
    },
    {
      "cell_type": "code",
      "execution_count": null,
      "id": "5d8109b4",
      "metadata": {
        "id": "5d8109b4"
      },
      "outputs": [],
      "source": [
        "squareArea(\"c\", 5)"
      ]
    },
    {
      "cell_type": "code",
      "execution_count": null,
      "id": "6c752c09",
      "metadata": {
        "id": "6c752c09"
      },
      "outputs": [],
      "source": [
        "def print_gugudan(n):\n",
        "    if (type(n) == int) and (n > 1 and n < 10):\n",
        "        for i in range(1, 10):\n",
        "            print(n * i, end = \" \")\n",
        "    else:\n",
        "        print(\"2 ~ 9의 자연수를 입력하세요;;\")"
      ]
    },
    {
      "cell_type": "code",
      "execution_count": null,
      "id": "5dc0fcf2",
      "metadata": {
        "id": "5dc0fcf2"
      },
      "outputs": [],
      "source": [
        "print_gugudan(9)"
      ]
    },
    {
      "cell_type": "code",
      "execution_count": null,
      "id": "cd35cab4",
      "metadata": {
        "id": "cd35cab4"
      },
      "outputs": [],
      "source": [
        "print_gugudan(10)"
      ]
    },
    {
      "cell_type": "markdown",
      "id": "CJZ494ivT_Sl",
      "metadata": {
        "id": "CJZ494ivT_Sl"
      },
      "source": [
        "---\n",
        "\n",
        "### 여러 문제를 통해, 지금까지 배운 다양한 문법을 체화해봅시다!!\n",
        "\n",
        "문제를 풀 때, 잊어버린 문법은 https://wikidocs.net/25 에서 확인해주세요 :)"
      ]
    },
    {
      "cell_type": "markdown",
      "id": "648CWSh5dn0L",
      "metadata": {
        "id": "648CWSh5dn0L"
      },
      "source": [
        "> ## 난이도 하"
      ]
    },
    {
      "cell_type": "markdown",
      "id": "QFssToGKdrNa",
      "metadata": {
        "id": "QFssToGKdrNa"
      },
      "source": [
        "#### 문제 1 ) 사분면 판별하기 (리스트/튜플, 조건문 이용)\n",
        "\n",
        "\n",
        "수원외고의 자랑 우진이는 수학적 재능도 뛰어나다고 한다. (진짜?)\n",
        "\n",
        "x, y 좌표평면을 다음과 같이 4개의 영역으로 나눌 수 있다는 것을 배운 우진이는,\n",
        "\n",
        "\n"
      ]
    },
    {
      "cell_type": "markdown",
      "id": "MuCmi4pZeQee",
      "metadata": {
        "id": "MuCmi4pZeQee"
      },
      "source": [
        "![image.png](data:image/png;base64,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)"
      ]
    },
    {
      "cell_type": "markdown",
      "id": "i5ferPbieS2Y",
      "metadata": {
        "id": "i5ferPbieS2Y"
      },
      "source": [
        "**\"오? 1사분면은 그러면... x좌표 y좌표가 모두 양수인 거고, 3사분면은 모두 음수...\"**라며 놀라운 분석을 해내었고,\n",
        "\n",
        "지난 주에 배운 조건문을 통해서 주어진 좌표가 몇 사분면 위의 점인지 판별하는 코드를 작성할 수 있다는 것을 깨달았다!\n",
        "\n",
        "다음 코드를 완성하여, 주어진 좌표가 몇 사분면 위의 점인지 판별하는 코드를 작성하자! (x좌표나 y좌표가 0인 경우는 없다고 가정한다.)\n",
        "\n",
        "**참고)**\n",
        "\n",
        "튜플 사용법 : https://wikidocs.net/15\n",
        "\n",
        "조건문(if) 사용법 : https://wikidocs.net/20"
      ]
    },
    {
      "cell_type": "code",
      "execution_count": null,
      "id": "NwjXDn8ge4sr",
      "metadata": {
        "id": "NwjXDn8ge4sr"
      },
      "outputs": [],
      "source": [
        "my_coord = (10, -20) ## 주어진 좌표\n",
        "\n",
        "x = my_coord[0]\n",
        "print('x좌표 :', x)"
      ]
    },
    {
      "cell_type": "code",
      "execution_count": null,
      "id": "SnXGBwpBfNPA",
      "metadata": {
        "id": "SnXGBwpBfNPA"
      },
      "outputs": [],
      "source": [
        "## 여기에 코드를 완성해주세요 :)\n",
        "\n"
      ]
    },
    {
      "cell_type": "markdown",
      "id": "Xdo1trO2dXuZ",
      "metadata": {
        "id": "Xdo1trO2dXuZ"
      },
      "source": [
        "> ## 난이도 중"
      ]
    },
    {
      "cell_type": "markdown",
      "id": "AcJ1uKxcVdZR",
      "metadata": {
        "id": "AcJ1uKxcVdZR"
      },
      "source": [
        "#### 문제 2 ) 최댓값 찾기 (리스트, 반복문, 조건문 이용)\n",
        "\n",
        "\n",
        "수원외고의 자랑 준명이는 파이썬을 공부하던 중 리스트에 큰 흥미를 느꼈다. (진짜?)\n",
        "\n",
        "특히, ``` a = [1, 2, 3] ``` 이렇게 리스트를 만들고 ``` print(max(a)) ``` 이렇게 출력을 하면 파이썬이 자동으로 리스트의 최댓값을 찾아서 출력해준다는 것이 아주 신기했다고 한다.\n",
        "\n",
        "\n",
        "그런데, 평소 준명이가 맘에 들지 않았던 예준이는, 이를 못마땅하게 여겼고 지난 주에 배운 반복문을 통해 리스트의 요소 하나하나를 보며 최댓값을 찾으라며 준명이를 독촉했다.\n",
        "\n",
        "`\n",
        "\n",
        "파이썬의 편리함에 녹아있던 준명이는 반복문을 통해 리스트의 요소 하나하나를 출력하는 데에는 성공했지만, 최댓값을 찾기 위해 어떤 조건문을 사용해야 할지 난감한 상황이다.\n",
        "\n",
        "우리 모두 준명이를 위해, 다음 코드를 참고해서, 주어진 리스트의 최댓값을 찾는 코드를 작성해주자.\n",
        "\n",
        "**참고)**\n",
        "\n",
        "리스트 사용 : https://wikidocs.net/14\n",
        "\n",
        "조건문(if) 사용 : https://wikidocs.net/20\n",
        "\n",
        "반복문(for) 사용 : https://wikidocs.net/22"
      ]
    },
    {
      "cell_type": "code",
      "execution_count": null,
      "id": "EqpvNpjcWa_5",
      "metadata": {
        "id": "EqpvNpjcWa_5"
      },
      "outputs": [],
      "source": [
        "my_list = [33, 65, 195, 12, 76, 45, 145, 20, 116, 60] ## 주어진 리스트\n",
        "\n",
        "for e in my_list: ## e에 my_list의 요소들이 순서대로 대입된다.\n",
        "  print(e) ## e에 대입된 my_list를 출력"
      ]
    },
    {
      "cell_type": "code",
      "execution_count": null,
      "id": "jCdoBS2bXHLo",
      "metadata": {
        "id": "jCdoBS2bXHLo"
      },
      "outputs": [],
      "source": [
        "## 여기에 코드를 작성해주세요 :)\n",
        "\n"
      ]
    },
    {
      "cell_type": "markdown",
      "id": "uJX1C_gtUMp7",
      "metadata": {
        "id": "uJX1C_gtUMp7"
      },
      "source": [
        "---\n",
        "\n",
        "#### 문제 3 ) 팰린드롬 확인하기 (문자열, 반복문, 조건문 이용)\n",
        "\n",
        "힘겹게 최댓값을 찾은 준명이는 옆에서 휘파람을 불며 영단어를 하나하나 적으며 공부하고 있는 예준이를 보았다.\n",
        "\n",
        "그런데, 예준이가 적는 단어들을 보니, level, reviver, rotator, ... 모두 팰린드롬이었다!\n",
        "\n",
        "- 팰린드롬이란, 단어의 알파벳을 앞에서 읽어도 뒤에서 읽어도 동일한 단어를 의미한다!\n",
        "\n",
        " - 예시 : noon, level 등등\n",
        "\n",
        "자신한테 이렇게 어려운 코딩을 시켜놓고 팔자 좋게 팰린드롬 찾기 놀이나 하고 있다는 생각에 화가 난 준명이는, 예준이에게도 코딩 문제를 내주어야겠다고 생각했다.\n",
        "\n",
        "이제 중국어 공부를 하려던 예준이는 결국\n",
        "\n",
        "주어진 문자열이 팰린드롬이라면, ```\"It is Palindrome\"``` 을 출력하고,\n",
        "\n",
        "팰린드롬이 아니라면, ```\"It is not Palindrome\"```을 출력하는 코드를 작성해야 한다...!\n",
        "\n",
        "예준이는 아까의 준명이처럼, 주어진 문자열의 문자들을 순서대로 출력하는 코드는 작성했지만, 그 이상은 하지 못했다.\n",
        "\n",
        "난감해하는 예준이를 위해 팰린드롬을 판별하는 코드를 작성해주자!\n",
        "\n",
        "\n",
        "**참고)**\n",
        "\n",
        "\n",
        "문자열 사용 : https://wikidocs.net/13\n",
        "\n",
        "조건문(if) 사용 : https://wikidocs.net/20\n",
        "\n",
        "반복문(for) 사용 : https://wikidocs.net/22\n"
      ]
    },
    {
      "cell_type": "code",
      "execution_count": null,
      "id": "fA0U6kgxakIu",
      "metadata": {
        "id": "fA0U6kgxakIu"
      },
      "outputs": [],
      "source": [
        "my_string = \"다시합창합시다\" ## 주어진 문자열\n",
        "\n",
        "length = len(my_string) ## 주어진 문자열의 길이를 length에 저장\n",
        "\n",
        "print(\"my_string :\", my_string, \"/ length :\", length)\n",
        "\n",
        "for i in range(length): ## i에 0 ~ (length - 1)의 값이 순서대로 대입된다.\n",
        "  print(my_string[i]) ## 문자열 my_string의 i번째 글자가 출력된다."
      ]
    },
    {
      "cell_type": "code",
      "execution_count": null,
      "id": "I4LZnA9_bJIN",
      "metadata": {
        "id": "I4LZnA9_bJIN"
      },
      "outputs": [],
      "source": [
        "### 여기에 코드를 작성해주세요 :)\n",
        "\n"
      ]
    },
    {
      "cell_type": "markdown",
      "id": "Ya0-70qukoJf",
      "metadata": {
        "id": "Ya0-70qukoJf"
      },
      "source": [
        "> ## 난이도 상"
      ]
    },
    {
      "cell_type": "markdown",
      "id": "4I7UibErkraZ",
      "metadata": {
        "id": "4I7UibErkraZ"
      },
      "source": [
        "#### 문제 4) 숫자야구\n",
        "\n",
        "수원외고 SW튜터 재훈쌤은 숫자야구 게임을 아주 좋아한다고 한다.\n",
        "\n",
        "숫자야구 게임이란, 플레이어 2명이 각자 자신의 숫자배열(4자리, 중복되는 숫자는 허용되지 않음)를 선택하여, 먼저 상대방의 숫자배열을 알아내는 사람이 이기는 게임이다.\n",
        "\n",
        "이때 1번씩 돌아가며 상대방의 정답에 대한 질문(공격)을 하는데, 질문/답변을 하는 방식은 다음과 같다.\n",
        "\n",
        "- 공격자는 정답이라고 생각하는 숫자배열 4자리를 부른다.\n",
        "- 수비자는 공격자의 공격 숫자배열에 대해, 다음과 같은 결과를 답해준다.\n",
        "  - 공격자의 숫자배열과 자신의 정답 중 둘 다 포함되는 숫자가 있을 때,\n",
        "    - 같은 자리에 있다면 Strike\n",
        "    - 다른 자리에 있다면 Ball\n",
        "  - 예컨대 정답이 1357이고, 공격자가 1235를 외쳤다면\n",
        "    - 1은 정답 숫자배열과 공격자의 숫자배열의 같은 자리에 있으므로 Strike -> 1S (원스트라이크)\n",
        "    - 3, 5는 정답 숫자배열에 있으나 공격자가 외친 숫자배열과 자리가 다르므로 Ball -> (투 볼)\n",
        "  - 수비자는 1S2B이라고 응답한다.\n",
        "- 공격과 수비의 역할을 바꾸며, 누군가가 상대방의 정답을 맞혔을 경우 맞힌 사람의 승리로 게임이 종료된다.\n",
        "\n"
      ]
    },
    {
      "cell_type": "markdown",
      "id": "y78KFQidpRpN",
      "metadata": {
        "id": "y78KFQidpRpN"
      },
      "source": [
        "---\n",
        "\n",
        "공격자의 공격 숫자배열에 대해 몇 strike 몊 ball인지를 튜플로 생성하는 함수 response를 파이썬 코드로 구현하여,\n",
        "\n",
        "컴퓨터의 숫자를 맞추는 게임을 만들어보자."
      ]
    },
    {
      "cell_type": "code",
      "execution_count": null,
      "id": "sKDWhTMXkq3d",
      "metadata": {
        "id": "sKDWhTMXkq3d"
      },
      "outputs": [],
      "source": [
        "import random ## 컴퓨터의 랜덤 숫자배열을 생성하기 위해 random 모듈을 불러온다.\n",
        "\n",
        "def make_number():\n",
        "  nums = [0, 1, 2, 3, 4, 5, 6, 7, 8, 9] ## 0 ~ 9까지의 숫자 리스트 생성\n",
        "\n",
        "  random.shuffle(nums) ## 리스트 nums를 무작위로 섞는다\n",
        "\n",
        "  computer_answer = nums[:4] ## 리스트 nums의 첫 4개의 원소로만 이루어진 리스트를 result에 저장\n",
        "\n",
        "  return ''.join(map(str, computer_answer))"
      ]
    },
    {
      "cell_type": "code",
      "execution_count": null,
      "id": "98yOdjDduQRJ",
      "metadata": {
        "id": "98yOdjDduQRJ"
      },
      "outputs": [],
      "source": [
        "print(make_number())"
      ]
    },
    {
      "cell_type": "code",
      "execution_count": null,
      "id": "SSTPkPprqfRz",
      "metadata": {
        "id": "SSTPkPprqfRz"
      },
      "outputs": [],
      "source": [
        "def response(answer, guess):\n",
        "  '''\n",
        "    공격자의 숫자배열(문자열로 주어짐)을 통해 정답과 비교하여 몇 Strike 몇 Ball인지를 튜플로 반환해주는 함수.\n",
        "  '''\n",
        "  Strike, Ball = 0, 0\n",
        "\n",
        "  ###############\n",
        "  ##           ##\n",
        "  ## Your Code ##\n",
        "  ##           ##\n",
        "  ###############\n",
        "\n",
        "  return (Strike, Ball)"
      ]
    },
    {
      "cell_type": "code",
      "execution_count": null,
      "id": "W63nX_G6qTFP",
      "metadata": {
        "id": "W63nX_G6qTFP"
      },
      "outputs": [],
      "source": [
        "answer = make_number() ## 컴퓨터의 정답을 answer에 저장\n",
        "\n",
        "while True:\n",
        "  my_answer = input(\"공격할 4자리 수를 중복 없이 입력해주세요. 포기하려면 -1을 입력해주세요. :\")\n",
        "  if my_answer[-2:] == \"-1\":\n",
        "    print(\"포기하셨습니다. 컴퓨터의 정답은\", answer, \"였습니다.\")\n",
        "    break\n",
        "  if len(my_answer) != 4:\n",
        "    print(\"입력 형식은 4자리 수입니다. [예시 : 1234]\")\n",
        "    continue\n",
        "  if len(set(my_answer)) != 4:\n",
        "    print(\"중복 없이 다시 입력해주세요.\")\n",
        "    continue\n",
        "  S, B = response(answer, my_answer)\n",
        "  print(\"{}S {}B입니다.\".format(S, B))\n",
        "  if S == 4:\n",
        "    print(\"정답을 맞혔습니다. 당신이 이겼습니다.\")\n",
        "    break\n"
      ]
    }
  ],
  "metadata": {
    "colab": {
      "provenance": []
    },
    "kernelspec": {
      "display_name": "Python 3 (ipykernel)",
      "language": "python",
      "name": "python3"
    },
    "language_info": {
      "codemirror_mode": {
        "name": "ipython",
        "version": 3
      },
      "file_extension": ".py",
      "mimetype": "text/x-python",
      "name": "python",
      "nbconvert_exporter": "python",
      "pygments_lexer": "ipython3",
      "version": "3.11.4"
    }
  },
  "nbformat": 4,
  "nbformat_minor": 5
}