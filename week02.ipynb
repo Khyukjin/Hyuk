{
  "cells": [
    {
      "cell_type": "markdown",
      "id": "y-qzIA0iQurH",
      "metadata": {
        "id": "y-qzIA0iQurH"
      },
      "source": [
        "### 학생 여러분~ 오늘 강의 내용을 실습해보기 전에, 지난 주에 배운 출력, 입력, 변수를 먼저 복습해볼까요?\n",
        "\n"
      ]
    },
    {
      "cell_type": "markdown",
      "id": "yyrtnZWPQ7pH",
      "metadata": {
        "id": "yyrtnZWPQ7pH"
      },
      "source": [
        "---\n",
        "#### 문제 1) 오늘 날짜를 출력하는 코드를 작성해주세요."
      ]
    },
    {
      "cell_type": "code",
      "execution_count": null,
      "id": "sGl9T-t8RC5g",
      "metadata": {
        "id": "sGl9T-t8RC5g"
      },
      "outputs": [],
      "source": [
        "# 아래에 코드를 작성해주세요.\n",
        "\n"
      ]
    },
    {
      "cell_type": "markdown",
      "id": "50hkUxKdRF5C",
      "metadata": {
        "id": "50hkUxKdRF5C"
      },
      "source": [
        "#### 문제 2) a라는 이름의 변수에 500이라는 값을 입력받고, 변수 a에 저장된 값을 출력하는 코드를 작성해주세요."
      ]
    },
    {
      "cell_type": "code",
      "execution_count": null,
      "id": "EbI8-p_aRFIi",
      "metadata": {
        "id": "EbI8-p_aRFIi"
      },
      "outputs": [],
      "source": [
        "# 아래에 코드를 작성해주세요.\n",
        "\n"
      ]
    },
    {
      "cell_type": "markdown",
      "id": "itEZ48vqRgXa",
      "metadata": {
        "id": "itEZ48vqRgXa"
      },
      "source": [
        "---\n",
        "\n",
        "### 오늘 배운, [수식과 연산자]에 대해 실습해봅시다~!"
      ]
    },
    {
      "cell_type": "markdown",
      "id": "307fe420",
      "metadata": {
        "id": "307fe420"
      },
      "source": [
        "### 산술 연산자"
      ]
    },
    {
      "cell_type": "code",
      "execution_count": null,
      "id": "112b3180",
      "metadata": {
        "id": "112b3180"
      },
      "outputs": [],
      "source": [
        "a = 3\n",
        "b = 2"
      ]
    },
    {
      "cell_type": "code",
      "execution_count": null,
      "id": "dcfc7650",
      "metadata": {
        "id": "dcfc7650"
      },
      "outputs": [],
      "source": [
        "# 정수형 변수들의 덧셈 결과\n",
        "print(a + b)"
      ]
    },
    {
      "cell_type": "code",
      "execution_count": null,
      "id": "7898dc6c",
      "metadata": {
        "id": "7898dc6c"
      },
      "outputs": [],
      "source": [
        "# 정수형 변수들의 뺄셈 결과\n",
        "print(a - b)"
      ]
    },
    {
      "cell_type": "code",
      "execution_count": null,
      "id": "66d36f01",
      "metadata": {
        "id": "66d36f01"
      },
      "outputs": [],
      "source": [
        "# 정수형 변수들의 곱셈 결과\n",
        "print(a * b)"
      ]
    },
    {
      "cell_type": "code",
      "execution_count": null,
      "id": "8cc4a7c3",
      "metadata": {
        "id": "8cc4a7c3"
      },
      "outputs": [],
      "source": [
        "# 정수형 변수들의 나눗셈 결과\n",
        "print(a / b)"
      ]
    },
    {
      "cell_type": "code",
      "execution_count": null,
      "id": "ea24b7af",
      "metadata": {
        "id": "ea24b7af"
      },
      "outputs": [],
      "source": [
        "# 정수형 변수들의 몫 결과\n",
        "print(a // b)"
      ]
    },
    {
      "cell_type": "code",
      "execution_count": null,
      "id": "207568a6",
      "metadata": {
        "id": "207568a6"
      },
      "outputs": [],
      "source": [
        "# 정수형 변수들의 나머지 결과\n",
        "print(a % b)"
      ]
    },
    {
      "cell_type": "code",
      "execution_count": null,
      "id": "5NFDjnskSh5V",
      "metadata": {
        "id": "5NFDjnskSh5V"
      },
      "outputs": [],
      "source": [
        "# 정수형 변수들의 거듭제곱 결과\n",
        "print(a ** b)"
      ]
    },
    {
      "cell_type": "code",
      "execution_count": null,
      "id": "79426fd2",
      "metadata": {
        "id": "79426fd2"
      },
      "outputs": [],
      "source": [
        "a = 3\n",
        "a = a + 1\n",
        "print(a)"
      ]
    },
    {
      "cell_type": "code",
      "execution_count": null,
      "id": "1da2625d",
      "metadata": {
        "id": "1da2625d"
      },
      "outputs": [],
      "source": [
        "a = 3\n",
        "a += 1 # a = a + 1\n",
        "print(a)"
      ]
    },
    {
      "cell_type": "code",
      "execution_count": null,
      "id": "d0f0d8e8",
      "metadata": {
        "id": "d0f0d8e8"
      },
      "outputs": [],
      "source": [
        "a = 3\n",
        "a = a - 1\n",
        "print(a)"
      ]
    },
    {
      "cell_type": "code",
      "execution_count": null,
      "id": "654bc4b0",
      "metadata": {
        "id": "654bc4b0"
      },
      "outputs": [],
      "source": [
        "a = 3\n",
        "a -= 1 # a = a - 1\n",
        "print(a)"
      ]
    },
    {
      "cell_type": "markdown",
      "id": "bfe7ae49",
      "metadata": {
        "id": "bfe7ae49"
      },
      "source": [
        "### 비교 연산자"
      ]
    },
    {
      "cell_type": "markdown",
      "id": "8dabf100",
      "metadata": {
        "id": "8dabf100"
      },
      "source": [
        "부울(Bool)형은 True 또는 False 값을 가지는 자료형으로, 논리 연산의 결과나 조건문의 평가 결과 등에 사용"
      ]
    },
    {
      "cell_type": "code",
      "execution_count": null,
      "id": "b548faa8",
      "metadata": {
        "id": "b548faa8"
      },
      "outputs": [],
      "source": [
        "# True와 False 값 직접 할당\n",
        "is_true = True\n",
        "is_false = False\n",
        "\n",
        "print(\"is_true:\", is_true)\n",
        "print(\"is_false:\", is_false)"
      ]
    },
    {
      "cell_type": "code",
      "execution_count": null,
      "id": "mC7FtmqDTztF",
      "metadata": {
        "id": "mC7FtmqDTztF"
      },
      "outputs": [],
      "source": [
        "is_bool = True\n",
        "print(\"type :\", type(is_bool))"
      ]
    },
    {
      "cell_type": "code",
      "execution_count": null,
      "id": "522bfc41",
      "metadata": {
        "id": "522bfc41"
      },
      "outputs": [],
      "source": [
        "# 크기 비교를 위한 변수 설정\n",
        "a = 10\n",
        "b = 5"
      ]
    },
    {
      "cell_type": "code",
      "execution_count": null,
      "id": "APKEz-9VTKwN",
      "metadata": {
        "id": "APKEz-9VTKwN"
      },
      "outputs": [],
      "source": [
        "# 비교 연산 결과를 부울 변수에 할당\n",
        "is_greater = a > b\n",
        "print(\"is_greater:\", is_greater)"
      ]
    },
    {
      "cell_type": "code",
      "execution_count": null,
      "id": "Sv2bF4SFTSCU",
      "metadata": {
        "id": "Sv2bF4SFTSCU"
      },
      "outputs": [],
      "source": [
        "is_less = a < b\n",
        "print(\"is_less:\", is_less)"
      ]
    },
    {
      "cell_type": "code",
      "execution_count": null,
      "id": "8Q1zSIO5TVq9",
      "metadata": {
        "id": "8Q1zSIO5TVq9"
      },
      "outputs": [],
      "source": [
        "is_equal = a == b\n",
        "print(\"is_equal:\", is_equal)"
      ]
    },
    {
      "cell_type": "code",
      "execution_count": null,
      "id": "9ec39C0DTXKd",
      "metadata": {
        "id": "9ec39C0DTXKd"
      },
      "outputs": [],
      "source": [
        "is_not_equal = a != b\n",
        "print(\"is_not_equal:\", is_not_equal)"
      ]
    },
    {
      "cell_type": "code",
      "execution_count": null,
      "id": "Y4NFvVQ5TaXM",
      "metadata": {
        "id": "Y4NFvVQ5TaXM"
      },
      "outputs": [],
      "source": [
        "is_greater_equal = a >= b\n",
        "print(\"is_greater_equal:\", is_greater_equal)"
      ]
    },
    {
      "cell_type": "code",
      "execution_count": null,
      "id": "HURzORSgTdA1",
      "metadata": {
        "id": "HURzORSgTdA1"
      },
      "outputs": [],
      "source": [
        "is_less_equal = a <= b\n",
        "print(\"is_less_equal:\", is_less_equal)"
      ]
    },
    {
      "cell_type": "markdown",
      "id": "kt804GEbT5Oa",
      "metadata": {
        "id": "kt804GEbT5Oa"
      },
      "source": [
        "### 논리 연산자"
      ]
    },
    {
      "cell_type": "code",
      "execution_count": null,
      "id": "ddff5ea6",
      "metadata": {
        "id": "ddff5ea6"
      },
      "outputs": [],
      "source": [
        "x = True\n",
        "y = False\n",
        "\n",
        "# 논리 AND 연산의 결과\n",
        "result_and = x and y\n",
        "print(\"AND Result:\", result_and)\n",
        "\n",
        "# 논리 OR 연산의 결과\n",
        "result_or = x or y\n",
        "print(\"OR Result:\", result_or)\n",
        "\n",
        "# 논리 NOT 연산의 결과\n",
        "result_not_x = not x\n",
        "result_not_y = not y\n",
        "print(\"NOT x Result:\", result_not_x)\n",
        "print(\"NOT y Result:\", result_not_y)"
      ]
    },
    {
      "cell_type": "markdown",
      "id": "95bf037d",
      "metadata": {
        "id": "95bf037d"
      },
      "source": [
        "## 문자형"
      ]
    },
    {
      "cell_type": "markdown",
      "id": "abecacd7",
      "metadata": {
        "id": "abecacd7"
      },
      "source": [
        "### 문자열(String)"
      ]
    },
    {
      "cell_type": "markdown",
      "id": "a71281a3",
      "metadata": {
        "id": "a71281a3"
      },
      "source": [
        "문자형은 문자들의 집합으로 이루어진 자료형으로, 따옴표(' ' 또는 \" \")로 둘러싸인 문자열을 사용"
      ]
    },
    {
      "cell_type": "code",
      "execution_count": null,
      "id": "cf55e6ed",
      "metadata": {
        "id": "cf55e6ed"
      },
      "outputs": [],
      "source": [
        "# 문자열 변수 선언과 출력 (작은 따옴표)\n",
        "message = 'Hello, world!'\n",
        "print(message)"
      ]
    },
    {
      "cell_type": "code",
      "execution_count": null,
      "id": "afe8351a",
      "metadata": {
        "id": "afe8351a"
      },
      "outputs": [],
      "source": [
        "# 문자열 변수 선언과 출력 (큰 따옴표)\n",
        "message = \"Hello, world!\"\n",
        "print(message)"
      ]
    },
    {
      "cell_type": "markdown",
      "id": "8f4b1d3d",
      "metadata": {
        "id": "8f4b1d3d"
      },
      "source": [
        "문자열에 따옴표를 포함해야 할 경우 다른 조합을 사용"
      ]
    },
    {
      "cell_type": "code",
      "execution_count": null,
      "id": "ce178b2a",
      "metadata": {
        "id": "ce178b2a"
      },
      "outputs": [],
      "source": [
        "a = 'I'm happy'"
      ]
    },
    {
      "cell_type": "code",
      "execution_count": null,
      "id": "a6ca5d7f",
      "metadata": {
        "id": "a6ca5d7f"
      },
      "outputs": [],
      "source": [
        "a = \"I'm happy\"\n",
        "print(a)"
      ]
    },
    {
      "cell_type": "code",
      "execution_count": null,
      "id": "gDDNCZl9U8aF",
      "metadata": {
        "id": "gDDNCZl9U8aF"
      },
      "outputs": [],
      "source": [
        "a = '''Someone said, \"Math is not easy\". '''\n",
        "print(a)"
      ]
    },
    {
      "cell_type": "markdown",
      "id": "p2LwBydCVk5m",
      "metadata": {
        "id": "p2LwBydCVk5m"
      },
      "source": [
        "#### 문자열의 길이를 확인하는 방법 : len()"
      ]
    },
    {
      "cell_type": "code",
      "execution_count": null,
      "id": "x1r7LXZ8Vr4Z",
      "metadata": {
        "id": "x1r7LXZ8Vr4Z"
      },
      "outputs": [],
      "source": [
        "a = \"Fly to the moon.\"\n",
        "print(len(a))"
      ]
    },
    {
      "cell_type": "markdown",
      "id": "fe85f656",
      "metadata": {
        "id": "fe85f656"
      },
      "source": [
        "### 문자열 인덱싱(Indexing)과 슬라이싱(slicing)"
      ]
    },
    {
      "cell_type": "markdown",
      "id": "c693fc1b",
      "metadata": {
        "id": "c693fc1b"
      },
      "source": [
        "#### 인덱싱"
      ]
    },
    {
      "cell_type": "markdown",
      "id": "bf85bba3",
      "metadata": {
        "id": "bf85bba3"
      },
      "source": [
        "문자열은 각각의 문자가 고유의 번호(순서)를 가지고 있으며 이를 활용하여 각각의 문자를 호출할 수 있다."
      ]
    },
    {
      "cell_type": "code",
      "execution_count": null,
      "id": "f656c45c",
      "metadata": {
        "id": "f656c45c"
      },
      "outputs": [],
      "source": [
        "a = 'Hello'"
      ]
    },
    {
      "cell_type": "code",
      "execution_count": null,
      "id": "20338c1b",
      "metadata": {
        "id": "20338c1b"
      },
      "outputs": [],
      "source": [
        "a[0]"
      ]
    },
    {
      "cell_type": "code",
      "execution_count": null,
      "id": "e0bebc26",
      "metadata": {
        "id": "e0bebc26"
      },
      "outputs": [],
      "source": [
        "a[1]"
      ]
    },
    {
      "cell_type": "code",
      "execution_count": null,
      "id": "e5b08d2e",
      "metadata": {
        "id": "e5b08d2e"
      },
      "outputs": [],
      "source": [
        "a[2]"
      ]
    },
    {
      "cell_type": "code",
      "execution_count": null,
      "id": "8fe18865",
      "metadata": {
        "id": "8fe18865"
      },
      "outputs": [],
      "source": [
        "a[3]"
      ]
    },
    {
      "cell_type": "code",
      "execution_count": null,
      "id": "08562eb4",
      "metadata": {
        "id": "08562eb4"
      },
      "outputs": [],
      "source": [
        "a[4]"
      ]
    },
    {
      "cell_type": "code",
      "execution_count": null,
      "id": "4af2b41a",
      "metadata": {
        "id": "4af2b41a"
      },
      "outputs": [],
      "source": [
        "a[5]"
      ]
    },
    {
      "cell_type": "code",
      "execution_count": null,
      "id": "dc301a5f",
      "metadata": {
        "id": "dc301a5f"
      },
      "outputs": [],
      "source": [
        "a[-1]"
      ]
    },
    {
      "cell_type": "code",
      "execution_count": null,
      "id": "267f72f1",
      "metadata": {
        "id": "267f72f1"
      },
      "outputs": [],
      "source": [
        "a[-2]"
      ]
    },
    {
      "cell_type": "code",
      "execution_count": null,
      "id": "a937ad5e",
      "metadata": {
        "id": "a937ad5e"
      },
      "outputs": [],
      "source": [
        "a[-3]"
      ]
    },
    {
      "cell_type": "code",
      "execution_count": null,
      "id": "e1da29ad",
      "metadata": {
        "id": "e1da29ad"
      },
      "outputs": [],
      "source": [
        "a[-4]"
      ]
    },
    {
      "cell_type": "code",
      "execution_count": null,
      "id": "0db53ecb",
      "metadata": {
        "id": "0db53ecb"
      },
      "outputs": [],
      "source": [
        "a[-5]"
      ]
    },
    {
      "cell_type": "code",
      "execution_count": null,
      "id": "a58ba9b1",
      "metadata": {
        "id": "a58ba9b1"
      },
      "outputs": [],
      "source": [
        "a[-6]"
      ]
    },
    {
      "cell_type": "markdown",
      "id": "cee4802a",
      "metadata": {
        "id": "cee4802a"
      },
      "source": [
        " H  e  l  l  o  (5개의 문자)\n",
        "\n",
        " 0  1  2  3  4  (0~4)\n",
        "\n",
        "-5 -4 -3 -2 -1  (-5~-1)"
      ]
    },
    {
      "cell_type": "markdown",
      "id": "a00ea7ea",
      "metadata": {
        "id": "a00ea7ea"
      },
      "source": [
        "#### 슬라이싱"
      ]
    },
    {
      "cell_type": "markdown",
      "id": "e54f48a7",
      "metadata": {
        "id": "e54f48a7"
      },
      "source": [
        "슬라이싱을 이용하면 여러 개의 문자를 호출할 수 있다."
      ]
    },
    {
      "cell_type": "code",
      "execution_count": null,
      "id": "qSeCW6xFWMSS",
      "metadata": {
        "id": "qSeCW6xFWMSS"
      },
      "outputs": [],
      "source": [
        "a = 'ABCDEFGHIJKLMNOP'"
      ]
    },
    {
      "cell_type": "code",
      "execution_count": null,
      "id": "302c8bf8",
      "metadata": {
        "id": "302c8bf8"
      },
      "outputs": [],
      "source": [
        "a[0:3]"
      ]
    },
    {
      "cell_type": "code",
      "execution_count": null,
      "id": "65f22139",
      "metadata": {
        "id": "65f22139"
      },
      "outputs": [],
      "source": [
        "a[1:3]"
      ]
    },
    {
      "cell_type": "code",
      "execution_count": null,
      "id": "cf8c63ee",
      "metadata": {
        "id": "cf8c63ee"
      },
      "outputs": [],
      "source": [
        "a[1:]"
      ]
    },
    {
      "cell_type": "code",
      "execution_count": null,
      "id": "dc1ee3a3",
      "metadata": {
        "id": "dc1ee3a3"
      },
      "outputs": [],
      "source": [
        "a[:4]"
      ]
    },
    {
      "cell_type": "code",
      "execution_count": null,
      "id": "3563fcb9",
      "metadata": {
        "id": "3563fcb9"
      },
      "outputs": [],
      "source": [
        "a[:]"
      ]
    },
    {
      "cell_type": "code",
      "execution_count": null,
      "id": "8fc659ce",
      "metadata": {
        "id": "8fc659ce"
      },
      "outputs": [],
      "source": [
        "a[0:7:2]"
      ]
    },
    {
      "cell_type": "markdown",
      "id": "20fae1ee",
      "metadata": {
        "id": "20fae1ee"
      },
      "source": [
        "슬라이싱으로 문자열 나누기"
      ]
    },
    {
      "cell_type": "code",
      "execution_count": null,
      "id": "dd89dd3f",
      "metadata": {
        "id": "dd89dd3f"
      },
      "outputs": [],
      "source": [
        "a = \"20240411Thu\"\n",
        "date = a[0:8]\n",
        "day = a[8:]"
      ]
    },
    {
      "cell_type": "code",
      "execution_count": null,
      "id": "5d67f14b",
      "metadata": {
        "id": "5d67f14b"
      },
      "outputs": [],
      "source": [
        "print(date)"
      ]
    },
    {
      "cell_type": "code",
      "execution_count": null,
      "id": "3e787171",
      "metadata": {
        "id": "3e787171"
      },
      "outputs": [],
      "source": [
        "print(day)"
      ]
    },
    {
      "cell_type": "markdown",
      "id": "fa67968d",
      "metadata": {
        "id": "fa67968d"
      },
      "source": [
        "### 문자열 연산"
      ]
    },
    {
      "cell_type": "code",
      "execution_count": null,
      "id": "e68d4a42",
      "metadata": {
        "id": "e68d4a42"
      },
      "outputs": [],
      "source": [
        "a = 'Hello, '\n",
        "b = 'SAWL'"
      ]
    },
    {
      "cell_type": "markdown",
      "id": "898e5b24",
      "metadata": {
        "id": "898e5b24"
      },
      "source": [
        "문자열을 더해서 연결할 때 더하기(+) 사용"
      ]
    },
    {
      "cell_type": "code",
      "execution_count": null,
      "id": "c80795e8",
      "metadata": {
        "id": "c80795e8"
      },
      "outputs": [],
      "source": [
        "print(a + b)"
      ]
    },
    {
      "cell_type": "markdown",
      "id": "069ff65a",
      "metadata": {
        "id": "069ff65a"
      },
      "source": [
        "문자열을 반복하고 싶을 때 곱하기(*) 사용"
      ]
    },
    {
      "cell_type": "code",
      "execution_count": null,
      "id": "05e67035",
      "metadata": {
        "id": "05e67035"
      },
      "outputs": [],
      "source": [
        "print(b * 3)"
      ]
    },
    {
      "cell_type": "markdown",
      "id": "70807bed",
      "metadata": {
        "id": "70807bed"
      },
      "source": [
        "### 문자열 포맷팅(Formatting)"
      ]
    },
    {
      "cell_type": "markdown",
      "id": "5c9ed710",
      "metadata": {
        "id": "5c9ed710"
      },
      "source": [
        "format 함수를 이용한 포맷팅"
      ]
    },
    {
      "cell_type": "code",
      "execution_count": null,
      "id": "5d6db301",
      "metadata": {
        "id": "5d6db301"
      },
      "outputs": [],
      "source": [
        "print('나는 오늘 {}시간 수업을 들었어'.format(6))"
      ]
    },
    {
      "cell_type": "code",
      "execution_count": null,
      "id": "2b45ed1e",
      "metadata": {
        "id": "2b45ed1e"
      },
      "outputs": [],
      "source": [
        "print('나는 오늘 {}시간 수업을 들었어'.format('여섯'))"
      ]
    },
    {
      "cell_type": "code",
      "execution_count": null,
      "id": "f652e9bf",
      "metadata": {
        "id": "f652e9bf"
      },
      "outputs": [],
      "source": [
        "# 2개 이상의 값 넣기\n",
        "print('나는 오늘 {} 수업을 {}시간 들었어'.format('파이썬', 2))"
      ]
    },
    {
      "cell_type": "markdown",
      "id": "9444d269",
      "metadata": {
        "id": "9444d269"
      },
      "source": [
        "f 문자열 포맷팅(3.6 버전 이상에서만 사용 가능)"
      ]
    },
    {
      "cell_type": "code",
      "execution_count": null,
      "id": "abf05c5c",
      "metadata": {
        "id": "abf05c5c"
      },
      "outputs": [],
      "source": [
        "sub = '파이썬'\n",
        "hour = 3\n",
        "print(f'나는 오늘 {sub} 수업을 {hour}시간 들었어')"
      ]
    },
    {
      "cell_type": "code",
      "execution_count": null,
      "id": "7a198fab",
      "metadata": {
        "id": "7a198fab"
      },
      "outputs": [],
      "source": [
        "# 수식 계산 가능\n",
        "print(f'나는 오늘 {sub} 수업을 {hour - 1}시간 들었어')"
      ]
    },
    {
      "cell_type": "markdown",
      "id": "onxGaqtkakZa",
      "metadata": {
        "id": "onxGaqtkakZa"
      },
      "source": [
        "### 문자열을 다루는 유용한 함수들!"
      ]
    },
    {
      "cell_type": "markdown",
      "id": "4K1Xu6kSasXg",
      "metadata": {
        "id": "4K1Xu6kSasXg"
      },
      "source": [
        "1. ```count``` : 문자열 내의 특정 문자열 개수 세기!\n",
        "2. ```index``` : 문자열 내의 특정 문자열 위치 확인!\n",
        "4. ```upper```, ```lower``` : 대문자화, 소문자화!\n",
        "5. ```replace``` : 문자열 내의 특정 문자열을 다른 문자열로 바꾸기!\n",
        "6. ```split``` : 문자열 쪼개기!"
      ]
    },
    {
      "cell_type": "markdown",
      "id": "82f3784a",
      "metadata": {
        "id": "82f3784a"
      },
      "source": [
        "---\n",
        "1. ```count``` : 문자열의 특정 문자 개수 세기"
      ]
    },
    {
      "cell_type": "code",
      "execution_count": null,
      "id": "5il6YSE1bWtv",
      "metadata": {
        "id": "5il6YSE1bWtv"
      },
      "outputs": [],
      "source": [
        "a = 'Ajou University'"
      ]
    },
    {
      "cell_type": "code",
      "execution_count": null,
      "id": "2c9d90e7",
      "metadata": {
        "id": "2c9d90e7"
      },
      "outputs": [],
      "source": [
        "print(a.count('i'))\n",
        "print(a.count('Univ'))"
      ]
    },
    {
      "cell_type": "markdown",
      "id": "3ec5bec3",
      "metadata": {
        "id": "3ec5bec3"
      },
      "source": [
        "2. ```index``` : 문자열의 특정 문자가 처음 나온 위치를 반환"
      ]
    },
    {
      "cell_type": "code",
      "execution_count": null,
      "id": "68862842",
      "metadata": {
        "id": "68862842"
      },
      "outputs": [],
      "source": [
        "print(a.index('i'))\n",
        "print(a.index('Univ'))"
      ]
    },
    {
      "cell_type": "markdown",
      "id": "Nef0xTVib46Q",
      "metadata": {
        "id": "Nef0xTVib46Q"
      },
      "source": [
        "3. ```upper```, ```lower``` : 대문자화, 소문자화!"
      ]
    },
    {
      "cell_type": "code",
      "execution_count": null,
      "id": "89MH5cwBb3qR",
      "metadata": {
        "id": "89MH5cwBb3qR"
      },
      "outputs": [],
      "source": [
        "print(a.upper())\n",
        "print(a.lower())"
      ]
    },
    {
      "cell_type": "markdown",
      "id": "jWhtCcz7cPRK",
      "metadata": {
        "id": "jWhtCcz7cPRK"
      },
      "source": [
        "4. ```replace``` : 문자열 내의 특정 문자열을 다른 문자열로 치환!"
      ]
    },
    {
      "cell_type": "code",
      "execution_count": null,
      "id": "o1WqsCp0cOcw",
      "metadata": {
        "id": "o1WqsCp0cOcw"
      },
      "outputs": [],
      "source": [
        "print(a.replace(\"University\", \"Nice!!\"))\n",
        "print(a.replace(\"Ajou\", \"Seoul National\"))"
      ]
    },
    {
      "cell_type": "markdown",
      "id": "aI4NOYhccnzS",
      "metadata": {
        "id": "aI4NOYhccnzS"
      },
      "source": [
        "5. ```split``` : 문자열을 쪼개기!"
      ]
    },
    {
      "cell_type": "code",
      "execution_count": null,
      "id": "DkDC8cObcnVh",
      "metadata": {
        "id": "DkDC8cObcnVh"
      },
      "outputs": [],
      "source": [
        "print(a.split())"
      ]
    },
    {
      "cell_type": "code",
      "execution_count": null,
      "id": "pZLsjI9Wcw4Y",
      "metadata": {
        "id": "pZLsjI9Wcw4Y"
      },
      "outputs": [],
      "source": [
        "b = \"010-ABCD-EFGH\"\n",
        "print(b.split('-'))"
      ]
    },
    {
      "cell_type": "markdown",
      "id": "0cSC6IxYc4xF",
      "metadata": {
        "id": "0cSC6IxYc4xF"
      },
      "source": [
        "## 이번 주 실습 내용은 여기까지입니다!!\n",
        "\n",
        "### 실습 내용을 되돌아 볼 수 있도록 몇 가지 예제를 준비했는데, 차근차근 하나씩 풀어보고, 모르는 게 있다면 손을 들고 튜터들에게 배워봅시다!!"
      ]
    },
    {
      "cell_type": "markdown",
      "id": "k2nRfoyjDSrH",
      "metadata": {
        "id": "k2nRfoyjDSrH"
      },
      "source": [
        "---\n",
        "### 문제 1\n",
        "\n",
        "#### 정수 n을 입력받고, 다음 값을 계산하여 출력하는 코드를 작성해주세요\n",
        "\n",
        "$$ (1+{1\\over n})^{n} $$\n",
        "\n",
        "#### Hint : 산술 연산자 활용하기!"
      ]
    },
    {
      "cell_type": "code",
      "execution_count": 137,
      "id": "j4Gs2-q0DGUQ",
      "metadata": {
        "colab": {
          "base_uri": "https://localhost:8080/"
        },
        "id": "j4Gs2-q0DGUQ",
        "outputId": "68b00353-fd60-4fde-86c0-93a044197b7f"
      },
      "outputs": [
        {
          "name": "stdout",
          "output_type": "stream",
          "text": [
            "Input n : 100000000\n",
            "result : 2.7182817983473577\n"
          ]
        }
      ],
      "source": [
        "## 아래 예시와 같이 출력되도록 코드를 작성해주세요!"
      ]
    },
    {
      "cell_type": "code",
      "execution_count": 138,
      "id": "uDnMl9waE0eh",
      "metadata": {
        "id": "uDnMl9waE0eh"
      },
      "outputs": [],
      "source": [
        "## 여기에 코드를 작성해주세요\n",
        "\n",
        "\n"
      ]
    },
    {
      "cell_type": "markdown",
      "id": "H0bjfh6xemHi",
      "metadata": {
        "id": "H0bjfh6xemHi"
      },
      "source": [
        "---\n",
        "### 문제 2\n",
        "\n",
        "#### \"안녕하세요. 제 이름은 OOO입니다. 반갑습니다.\" 형식의 문자열을 입력받아, 이름만 출력하는 코드를 작성해주세요.\n",
        "\n",
        "#### Hint : 인덱싱과 슬라이싱을 활용하기!"
      ]
    },
    {
      "cell_type": "code",
      "execution_count": 140,
      "id": "XkpMTEzqfWqB",
      "metadata": {
        "colab": {
          "base_uri": "https://localhost:8080/"
        },
        "id": "XkpMTEzqfWqB",
        "outputId": "e3ec1df2-4457-4aa5-b301-966f31e3936c"
      },
      "outputs": [
        {
          "name": "stdout",
          "output_type": "stream",
          "text": [
            "Input : 안녕하세요. 제 이름은 김유진입니다. 반갑습니다.\n",
            "result : 김유진\n"
          ]
        }
      ],
      "source": [
        "## 아래 예시와 같이 출력되도록 코드를 작성해주세요!"
      ]
    },
    {
      "cell_type": "code",
      "execution_count": null,
      "id": "EMWgyCuRfeuv",
      "metadata": {
        "id": "EMWgyCuRfeuv"
      },
      "outputs": [],
      "source": [
        "## 여기에 코드를 작성해주세요\n",
        "\n",
        "\n"
      ]
    },
    {
      "cell_type": "markdown",
      "id": "M48TBISMDj68",
      "metadata": {
        "id": "M48TBISMDj68"
      },
      "source": [
        "---\n",
        "\n",
        "### 문제 3 (어려움 주의)\n",
        "\n"
      ]
    },
    {
      "cell_type": "markdown",
      "id": "1LDB3HSYdGsx",
      "metadata": {
        "id": "1LDB3HSYdGsx"
      },
      "source": [
        "#### 정수 n을 입력받고, n이 짝수이면 True, n이 홀수이면 False를 출력하는 코드를 작성해주세요\n",
        "\n",
        "#### Hint : 짝수는 2로 나눈 나머지가 0이다! 하핫"
      ]
    },
    {
      "cell_type": "code",
      "execution_count": 139,
      "id": "D1bNzWRudFV0",
      "metadata": {
        "colab": {
          "base_uri": "https://localhost:8080/"
        },
        "id": "D1bNzWRudFV0",
        "outputId": "eef264c7-f4fa-4d0d-e0e6-8c8dea5d25e6"
      },
      "outputs": [
        {
          "name": "stdout",
          "output_type": "stream",
          "text": [
            "Input n : 248\n",
            "Result : True\n"
          ]
        }
      ],
      "source": [
        "## 아래 예시와 같이 출력되도록 코드를 작성해주세요!"
      ]
    },
    {
      "cell_type": "code",
      "execution_count": null,
      "id": "EjfaAViwegjF",
      "metadata": {
        "id": "EjfaAViwegjF"
      },
      "outputs": [],
      "source": [
        "## 여기에 코드를 작성해주세요\n",
        "\n",
        "\n"
      ]
    }
  ],
  "metadata": {
    "colab": {
      "provenance": []
    },
    "kernelspec": {
      "display_name": "Python 3 (ipykernel)",
      "language": "python",
      "name": "python3"
    },
    "language_info": {
      "codemirror_mode": {
        "name": "ipython",
        "version": 3
      },
      "file_extension": ".py",
      "mimetype": "text/x-python",
      "name": "python",
      "nbconvert_exporter": "python",
      "pygments_lexer": "ipython3",
      "version": "3.8.16"
    },
    "toc": {
      "base_numbering": 1,
      "nav_menu": {},
      "number_sections": true,
      "sideBar": true,
      "skip_h1_title": false,
      "title_cell": "Table of Contents",
      "title_sidebar": "Contents",
      "toc_cell": false,
      "toc_position": {},
      "toc_section_display": true,
      "toc_window_display": false
    },
    "varInspector": {
      "cols": {
        "lenName": 16,
        "lenType": 16,
        "lenVar": 40
      },
      "kernels_config": {
        "python": {
          "delete_cmd_postfix": "",
          "delete_cmd_prefix": "del ",
          "library": "var_list.py",
          "varRefreshCmd": "print(var_dic_list())"
        },
        "r": {
          "delete_cmd_postfix": ") ",
          "delete_cmd_prefix": "rm(",
          "library": "var_list.r",
          "varRefreshCmd": "cat(var_dic_list()) "
        }
      },
      "types_to_exclude": [
        "module",
        "function",
        "builtin_function_or_method",
        "instance",
        "_Feature"
      ],
      "window_display": false
    }
  },
  "nbformat": 4,
  "nbformat_minor": 5
}
