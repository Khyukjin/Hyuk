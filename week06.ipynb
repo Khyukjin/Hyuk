{
  "nbformat": 4,
  "nbformat_minor": 0,
  "metadata": {
    "colab": {
      "provenance": []
    },
    "kernelspec": {
      "name": "python3",
      "display_name": "Python 3"
    },
    "language_info": {
      "name": "python"
    }
  },
  "cells": [
    {
      "cell_type": "markdown",
      "source": [
        "# 반복문\n",
        "\n",
        "\n",
        "*   어떤 일을 반복하여 수행할 때 사용하는 문법\n",
        "*   대부분 프로그래밍 언어에서 반복되는 작업을 간단하게 처리하기 위해 사용\n",
        "\n",
        "*   반복 횟수, 반복 및 정지 조건 자유자재로 제어 가능\n",
        "\n",
        "\n",
        "\n",
        "\n"
      ],
      "metadata": {
        "id": "tbAg9AQVyWNC"
      }
    },
    {
      "cell_type": "markdown",
      "source": [
        "##for **반복문**\n",
        "\n",
        "\n",
        "*   반복 횟수가 정해져 있을 때 사용\n",
        "\n",
        "*   for [변수] in [리스트](또는 튜플, 문자열)\n",
        "\n",
        "\n",
        "\n",
        "\n"
      ],
      "metadata": {
        "id": "BP_68NbFybhi"
      }
    },
    {
      "cell_type": "code",
      "source": [
        "a=[1,2,3,4,5]\n",
        "for i in a:\n",
        "  print(i)"
      ],
      "metadata": {
        "id": "oZenWI1deqgx"
      },
      "execution_count": null,
      "outputs": []
    },
    {
      "cell_type": "code",
      "source": [
        "fruits=(\"apple\", \"orange\", \"grape\")\n",
        "for i in fruits:\n",
        "  print(i)"
      ],
      "metadata": {
        "id": "fdOLFKYih8_f"
      },
      "execution_count": null,
      "outputs": []
    },
    {
      "cell_type": "code",
      "source": [
        "for i in 'Python':\n",
        "  print(i, end=\" \")"
      ],
      "metadata": {
        "id": "r_z2lbp8eq2Q"
      },
      "execution_count": null,
      "outputs": []
    },
    {
      "cell_type": "markdown",
      "source": [
        "변수 이름 설정은 자유롭게 가능!\\\n",
        " 변수 i를 루프 인덱스라고도 부르며 index의 첫머리 글자를 따서 i를 주로 사용하는 것"
      ],
      "metadata": {
        "id": "__O-pquCiHtM"
      }
    },
    {
      "cell_type": "code",
      "source": [
        "fruits=(\"apple\", \"orange\", \"grape\")\n",
        "for fruit in fruits:\n",
        "  print(fruit)"
      ],
      "metadata": {
        "id": "BdFxcHHPeqno"
      },
      "execution_count": null,
      "outputs": []
    },
    {
      "cell_type": "code",
      "source": [
        "for letter in 'Python':\n",
        "  print(letter, end=\" \")"
      ],
      "metadata": {
        "id": "6xvsfaVKh38G"
      },
      "execution_count": null,
      "outputs": []
    },
    {
      "cell_type": "markdown",
      "source": [
        "###for반복문에 range 사용\n",
        "\n",
        "\n",
        "range()란?\n",
        "*   숫자 리스트 생성을 해주고, 편리성을 높여준다.\n",
        "\n",
        "\n",
        "\n",
        "```\n",
        "for 변수 in range(횟수):\n",
        "    반복할코드\n",
        "```\n",
        "\n",
        "\n",
        "\n",
        "\n"
      ],
      "metadata": {
        "id": "SvBwlE0izSf6"
      }
    },
    {
      "cell_type": "code",
      "source": [
        "for i in range(10):\n",
        "  print(\"안녕\", i)"
      ],
      "metadata": {
        "id": "nSRtIsHab4vE"
      },
      "execution_count": null,
      "outputs": []
    },
    {
      "cell_type": "markdown",
      "source": [
        "\n",
        "\n",
        "*  시작하는 숫자와 끝나는 숫자 지정\n",
        "\n",
        "\n"
      ],
      "metadata": {
        "id": "ka4aHbgxzSnC"
      }
    },
    {
      "cell_type": "code",
      "source": [
        "for i in range(5,12):\n",
        "  print(\"안녕\",i)\n"
      ],
      "metadata": {
        "id": "2wGWgRRkcRdD"
      },
      "execution_count": null,
      "outputs": []
    },
    {
      "cell_type": "markdown",
      "source": [
        "\n",
        "\n",
        "*   증가폭 사용\n",
        "\n",
        "\n"
      ],
      "metadata": {
        "id": "I3N9F5TG0_7x"
      }
    },
    {
      "cell_type": "code",
      "source": [
        "for i in range(0,10,2):\n",
        "  print(\"안녕\",i)"
      ],
      "metadata": {
        "id": "XifDJDgpceWH"
      },
      "execution_count": null,
      "outputs": []
    },
    {
      "cell_type": "markdown",
      "source": [
        "\n",
        "\n",
        "*  숫자 감소시키기\n",
        "\n"
      ],
      "metadata": {
        "id": "MJ9LiyWf1B3W"
      }
    },
    {
      "cell_type": "code",
      "source": [
        "for i in range(10,0):\n",
        "  print(\"안녕\",i)"
      ],
      "metadata": {
        "id": "Ck34FGkackDO"
      },
      "execution_count": null,
      "outputs": []
    },
    {
      "cell_type": "markdown",
      "source": [
        "range(10,0)은 동작하지 않음!! range는 숫자가 증가하는 기본값이 양수이기 떄문!!"
      ],
      "metadata": {
        "id": "Tqfsf9P0cvac"
      }
    },
    {
      "cell_type": "code",
      "source": [
        "for i in range(10,0,-1):\n",
        "  print(\"안녕\",i)"
      ],
      "metadata": {
        "id": "NVNVf_Rbcqyn"
      },
      "execution_count": null,
      "outputs": []
    },
    {
      "cell_type": "code",
      "source": [
        "for i in reversed(range(10)):\n",
        "  print(\"안녕\",i)"
      ],
      "metadata": {
        "id": "A36QzHrxdD2t"
      },
      "execution_count": null,
      "outputs": []
    },
    {
      "cell_type": "code",
      "source": [
        "for i in reversed(range(0,10)):\n",
        "  print(\"안녕\",i)"
      ],
      "metadata": {
        "id": "sGGfWRoadPNo"
      },
      "execution_count": null,
      "outputs": []
    },
    {
      "cell_type": "code",
      "source": [
        "for i in reversed(range(0,10,2)):\n",
        "  print(\"안녕\",i)"
      ],
      "metadata": {
        "id": "imPhXBpXdPZ3"
      },
      "execution_count": null,
      "outputs": []
    },
    {
      "cell_type": "markdown",
      "source": [
        "\n",
        "\n",
        "*   입력한 횟수대로 반복하기\n",
        "\n",
        "\n"
      ],
      "metadata": {
        "id": "lI7q7vQ7dlZV"
      }
    },
    {
      "cell_type": "code",
      "source": [
        "count=int(input(\"반복할 횟수를 입력하세요:\"))\n",
        "\n",
        "for i in range(count):\n",
        "  print(\"안녕\",i)"
      ],
      "metadata": {
        "id": "fZQNIjGJdjvM"
      },
      "execution_count": null,
      "outputs": []
    },
    {
      "cell_type": "markdown",
      "source": [
        "##while 반복문\n",
        "\n",
        "\n",
        "\n",
        "\n",
        "*   조건식으로만 동작하며 반복할 코드 안에 조건식에 영향을 주는 변화식 들어감\n",
        "*  조건식->반복할 코드 및 변화식->조건식으로 순환하는 코드\n",
        "\n",
        "\n",
        "```\n",
        "while 조건식:\n",
        "    반복할 코드\n",
        "    변화식\n",
        "```\n",
        "\n",
        "\n",
        "\n"
      ],
      "metadata": {
        "id": "xZdaXqv9zCUJ"
      }
    },
    {
      "cell_type": "code",
      "source": [
        "i=0\n",
        "while i<10:\n",
        "  print(\"안녕\",i)\n",
        "  i+=1\n"
      ],
      "metadata": {
        "id": "SWqBSuT2i33T"
      },
      "execution_count": null,
      "outputs": []
    },
    {
      "cell_type": "code",
      "source": [
        "# 초기값 1부터 시작\n",
        "\n",
        "i=1\n",
        "while i<10:\n",
        "  print(\"안녕\",i)\n",
        "  i+=1"
      ],
      "metadata": {
        "id": "cRiat1-wjkg5"
      },
      "execution_count": null,
      "outputs": []
    },
    {
      "cell_type": "markdown",
      "source": [
        "\n",
        "\n",
        "*   초기값 입력받은 수부터 시작\n",
        "\n",
        "\n"
      ],
      "metadata": {
        "id": "Yg23ONDGjtcl"
      }
    },
    {
      "cell_type": "code",
      "source": [
        "i=int(input())\n",
        "while i<10:\n",
        "  print(\"안녕\",i)\n",
        "  i+=1"
      ],
      "metadata": {
        "id": "gF4j2OZSjmhl"
      },
      "execution_count": null,
      "outputs": []
    },
    {
      "cell_type": "markdown",
      "source": [
        "\n",
        "\n",
        "*   초깃값 감소\n",
        "\n",
        "\n"
      ],
      "metadata": {
        "id": "W9XmJW8W1__2"
      }
    },
    {
      "cell_type": "code",
      "source": [
        "i=10\n",
        "while i>0:\n",
        "  print(\"안녕\",i)\n",
        "  i-=1"
      ],
      "metadata": {
        "id": "iCW_9Ew5jyYv"
      },
      "execution_count": null,
      "outputs": []
    },
    {
      "cell_type": "markdown",
      "source": [
        "\n",
        "*   입력한 횟수대로 반복\n"
      ],
      "metadata": {
        "id": "HCdiEsDa2CKp"
      }
    },
    {
      "cell_type": "code",
      "source": [
        "count=int(input(\"반복할 횟수를 입력하세요:\"))\n",
        "\n",
        "i=0\n",
        "\n",
        "while i<count:\n",
        "  print(\"안녕\",i)\n",
        "  i+=1"
      ],
      "metadata": {
        "id": "eiTvjex9kDpf"
      },
      "execution_count": null,
      "outputs": []
    },
    {
      "cell_type": "markdown",
      "source": [
        "\n",
        "\n",
        "*   반복횟수가 정해지지 않은 경우\n",
        "\n",
        "\n",
        "\n",
        "\n",
        "\n"
      ],
      "metadata": {
        "id": "IDAFVhhC2ExB"
      }
    },
    {
      "cell_type": "code",
      "source": [
        "\n",
        "#random 모듈의 randint 함수를 이용하면 원하는 범위 안의 랜덤된 숫자를 생성할 수 있음\n",
        "\n",
        "import random        #random 모듈 호출\n",
        "random.randint(1,6)  #1과 6사이의 랜덤한 숫자 생성"
      ],
      "metadata": {
        "id": "i6hDAFzHk6We"
      },
      "execution_count": null,
      "outputs": []
    },
    {
      "cell_type": "code",
      "source": [
        "import random\n",
        "\n",
        "i=0\n",
        "while i !=3:  #3이 아닐때까지 반복\n",
        "  i=random.randint(1,6)  #randint를 사용하여 1과 6사이의 랜덤한 숫자 생성\n",
        "  print(i)"
      ],
      "metadata": {
        "id": "YCQbueB1ljHO"
      },
      "execution_count": null,
      "outputs": []
    },
    {
      "cell_type": "markdown",
      "source": [
        "##break, continue\n",
        "\n",
        "\n",
        "\n",
        "*   break: 제어 흐름 중단\n",
        "*   continue : 제어 흐름 유지, 코드 실행만 건너뜀\n",
        "\n"
      ],
      "metadata": {
        "id": "2234YUQ22MUP"
      }
    },
    {
      "cell_type": "markdown",
      "source": [
        "###break로 반복문 끝내기\n",
        "\n",
        "\n",
        "\n"
      ],
      "metadata": {
        "id": "7xkMVE8w2jaS"
      }
    },
    {
      "cell_type": "markdown",
      "source": [
        "while 반복문에서 break로 반복문 끝내기\n",
        "\n",
        "\n",
        "\n",
        "\n"
      ],
      "metadata": {
        "id": "LtQv0nHD2qs-"
      }
    },
    {
      "cell_type": "code",
      "source": [
        "#while 무한 루프에서 i의 값을 증가시키다가 i가 10이면 반복문 끝냄\n",
        "\n",
        "i=0\n",
        "while True: #무한루프\n",
        "     print(i)\n",
        "     i +=1      #i를 1씩 증가시킴\n",
        "     if i ==10: #i가 10일때,\n",
        "       break    #반복문을 끝냄."
      ],
      "metadata": {
        "id": "9TNAGbFqIpvc"
      },
      "execution_count": null,
      "outputs": []
    },
    {
      "cell_type": "markdown",
      "source": [
        "for 반복문에서 break로 반복문 끝내기"
      ],
      "metadata": {
        "id": "O8VxWMV61Kt5"
      }
    },
    {
      "cell_type": "code",
      "source": [
        "#for로 0부터 99까지 반복하면서 i가 10일 때 반복문 끝냄\n",
        "\n",
        "for i in range(100):    #0부터 99까지 반복\n",
        "  print(i)\n",
        "  if i==10:    #i가 10일떄\n",
        "    break    #반복문 끝냄\n"
      ],
      "metadata": {
        "id": "BG48ozL_16EG"
      },
      "execution_count": null,
      "outputs": []
    },
    {
      "cell_type": "markdown",
      "source": [
        "###continue로 코드 실행 건너뛰기"
      ],
      "metadata": {
        "id": "-T03Uubj0nyd"
      }
    },
    {
      "cell_type": "markdown",
      "source": [
        "while 반복문에서 continue로 코드 실행 건너뛰기"
      ],
      "metadata": {
        "id": "Bude0YuI07nE"
      }
    },
    {
      "cell_type": "code",
      "source": [
        "i=0\n",
        "while i<100:\n",
        "  i+=1\n",
        "  if i%2==0: #i를 2로 나누었을 때 나머지가 0이면 짝수\n",
        "    continue # 아래코드를 실행하지 않고 건너뜀\n",
        "  print(i)"
      ],
      "metadata": {
        "id": "gzKVC_-TMzHp"
      },
      "execution_count": null,
      "outputs": []
    },
    {
      "cell_type": "markdown",
      "source": [
        "for 반복문에서 continue로 코드 실행 건너뛰기"
      ],
      "metadata": {
        "id": "tTT979k91NMc"
      }
    },
    {
      "cell_type": "code",
      "source": [
        "#for로 0부터 99까지 반복하면서 홀수만 출력\n",
        "for i in range(100): #0부터 99까지 증가하면서 100번 반복\n",
        "  if i%2==0:    #i를 2로 나누었을때 나머지가 0이면 짝수\n",
        "    continue    # 아래코드를 실행하지 않고 건너뜀\n",
        "  print(i)"
      ],
      "metadata": {
        "id": "qOtHJKuP04Es"
      },
      "execution_count": null,
      "outputs": []
    },
    {
      "cell_type": "markdown",
      "source": [
        "#연습문제#"
      ],
      "metadata": {
        "id": "zWAHPAByJSPe"
      }
    },
    {
      "cell_type": "markdown",
      "source": [
        "##1번 문제\n",
        "\n",
        "range를 이용해서 \"GOOD\"을 5번 출력하는 코드를 작성하세요."
      ],
      "metadata": {
        "id": "p9xD6DCRYcG1"
      }
    },
    {
      "cell_type": "code",
      "source": [],
      "metadata": {
        "id": "yH40XFTDfQQ7"
      },
      "execution_count": null,
      "outputs": []
    },
    {
      "cell_type": "markdown",
      "source": [
        "## 2번 문제\n",
        "for문을 이용해서 리스트 x=[1,3,5,7,9]에 들어있는 각 숫자에 10이 곱한 값이 출력되게 만드세요.\n",
        "\n",
        "\n"
      ],
      "metadata": {
        "id": "9LVE2YLJY6ES"
      }
    },
    {
      "cell_type": "code",
      "source": [
        "x=[1,3,5,7,9]\n",
        "\n"
      ],
      "metadata": {
        "id": "ZKJoF2aDfQrl"
      },
      "execution_count": null,
      "outputs": []
    },
    {
      "cell_type": "markdown",
      "source": [
        "## 3번 문제\n",
        "continue랑 break를 이용해서 0부터 70까지의 숫자 중 1로 끝나는 숫자만 출력하는 코드를 작성하세요.\n",
        "\n"
      ],
      "metadata": {
        "id": "e6w3cJM9asAs"
      }
    },
    {
      "cell_type": "code",
      "source": [],
      "metadata": {
        "id": "rRwqJvkVfRPl"
      },
      "execution_count": null,
      "outputs": []
    }
  ]
}