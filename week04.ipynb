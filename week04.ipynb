{
  "cells": [
    {
      "cell_type": "markdown",
      "metadata": {
        "id": "tWXrus8DBziC"
      },
      "source": [
        "## 딕셔너리형(Dictionary)"
      ]
    },
    {
      "cell_type": "code",
      "execution_count": 1,
      "metadata": {
        "id": "GW4K5M8HBziD"
      },
      "outputs": [],
      "source": [
        "my_dict = {'name':'홍길동', 'age':'5', 'school':'서당대학교'}"
      ]
    },
    {
      "cell_type": "code",
      "execution_count": null,
      "metadata": {
        "id": "8rtWmhdpBziE"
      },
      "outputs": [],
      "source": [
        "my_dict['name']"
      ]
    },
    {
      "cell_type": "code",
      "execution_count": null,
      "metadata": {
        "id": "CxM2azRaBziE"
      },
      "outputs": [],
      "source": [
        "my_dict['ID'] = '160026873'\n",
        "my_dict"
      ]
    },
    {
      "cell_type": "code",
      "execution_count": null,
      "metadata": {
        "id": "fJQkX95bBziE"
      },
      "outputs": [],
      "source": [
        "del my_dict['age']\n",
        "my_dict"
      ]
    },
    {
      "cell_type": "code",
      "execution_count": null,
      "metadata": {
        "id": "C0hobTmFBziF"
      },
      "outputs": [],
      "source": [
        "# 이러면 안돼요!!!!!!!!!!!!!!!!!!!!\n",
        "a = {1:'a',1:'b'}\n",
        "print(a)"
      ]
    },
    {
      "cell_type": "code",
      "execution_count": null,
      "metadata": {
        "id": "hf--jNeaBziF"
      },
      "outputs": [],
      "source": [
        "# 이러면 안돼요2!!!!!!!!!!!!!!!!!!!!\n",
        "a = {[1,2]:'a'}"
      ]
    },
    {
      "cell_type": "code",
      "execution_count": null,
      "metadata": {
        "id": "Ut4iPDEzBziF"
      },
      "outputs": [],
      "source": [
        "# 이거는 가능\n",
        "a = {(1,2):'a'}"
      ]
    },
    {
      "cell_type": "code",
      "execution_count": null,
      "metadata": {
        "id": "k9rsiuqfBziF"
      },
      "outputs": [],
      "source": [
        "# key 리스트\n",
        "my_dict.keys()"
      ]
    },
    {
      "cell_type": "code",
      "execution_count": null,
      "metadata": {
        "id": "a6grt9aQBziF"
      },
      "outputs": [],
      "source": [
        "# value 리스트\n",
        "my_dict.???()"
      ]
    },
    {
      "cell_type": "code",
      "execution_count": null,
      "metadata": {
        "id": "OdglgVNJBziF"
      },
      "outputs": [],
      "source": [
        "print(list(my_dict.keys()))\n",
        "tuple((my_dict.keys()))"
      ]
    },
    {
      "cell_type": "code",
      "execution_count": null,
      "metadata": {
        "id": "RbGTx8G2BziG"
      },
      "outputs": [],
      "source": [
        "my_dict.items()"
      ]
    },
    {
      "cell_type": "code",
      "execution_count": null,
      "metadata": {
        "id": "xMlOFsVWBziG"
      },
      "outputs": [],
      "source": [
        "print(my_dict.get('name'))\n",
        "print(my_dict.get('ID'))"
      ]
    },
    {
      "cell_type": "code",
      "execution_count": null,
      "metadata": {
        "id": "Ct9hb8UnBziG"
      },
      "outputs": [],
      "source": [
        "print('name' in my_dict)"
      ]
    },
    {
      "cell_type": "code",
      "execution_count": null,
      "metadata": {
        "id": "4myc7rysBziG"
      },
      "outputs": [],
      "source": [
        "my_dict.clear()"
      ]
    },
    {
      "cell_type": "markdown",
      "metadata": {
        "id": "_HrqHEZdH0qr"
      },
      "source": [
        "## 집합형(Set)"
      ]
    },
    {
      "cell_type": "code",
      "execution_count": null,
      "metadata": {
        "id": "LfJVgvl-IEAS"
      },
      "outputs": [],
      "source": [
        "s1 = set([1,2,3])"
      ]
    },
    {
      "cell_type": "code",
      "execution_count": null,
      "metadata": {
        "colab": {
          "base_uri": "https://localhost:8080/"
        },
        "id": "O8P8eQIUIGtK",
        "outputId": "8747982f-5352-4c63-baeb-4e1abdaac12e"
      },
      "outputs": [
        {
          "name": "stdout",
          "output_type": "stream",
          "text": [
            "{1, 2, 3}\n"
          ]
        }
      ],
      "source": [
        "print(s1)"
      ]
    },
    {
      "cell_type": "code",
      "execution_count": null,
      "metadata": {
        "colab": {
          "base_uri": "https://localhost:8080/"
        },
        "id": "_jZsEvZXIM3D",
        "outputId": "c1a2d4ff-a02a-4791-ef29-697a089a7aa6"
      },
      "outputs": [
        {
          "name": "stdout",
          "output_type": "stream",
          "text": [
            "{1, 2, 3} [1, 2, 3] (1, 2, 3)\n"
          ]
        }
      ],
      "source": [
        "l1 = list(s1)\n",
        "t1 = tuple(s1)\n",
        "print(s1, l1, t1)"
      ]
    },
    {
      "cell_type": "code",
      "execution_count": null,
      "metadata": {
        "id": "pT8xv55iIRm2"
      },
      "outputs": [],
      "source": [
        "s1 = set([1,2,3,4,5,6])\n",
        "s2 = set([4,5,6,7,8,9])"
      ]
    },
    {
      "cell_type": "code",
      "execution_count": null,
      "metadata": {
        "colab": {
          "base_uri": "https://localhost:8080/"
        },
        "id": "0YGlZaX-O9i2",
        "outputId": "99d883aa-7842-44c7-e13f-214ea65788b7"
      },
      "outputs": [
        {
          "name": "stdout",
          "output_type": "stream",
          "text": [
            "{4, 5, 6}\n"
          ]
        }
      ],
      "source": [
        "print(s1&s2)"
      ]
    },
    {
      "cell_type": "code",
      "execution_count": null,
      "metadata": {
        "colab": {
          "base_uri": "https://localhost:8080/"
        },
        "id": "HXCxrgFOO_sL",
        "outputId": "df63601c-233c-4ab7-f8d3-54a9fd43ccb7"
      },
      "outputs": [
        {
          "name": "stdout",
          "output_type": "stream",
          "text": [
            "{1, 2, 3, 4, 5, 6, 7, 8, 9}\n"
          ]
        }
      ],
      "source": [
        "print(s1|s2)"
      ]
    },
    {
      "cell_type": "code",
      "execution_count": null,
      "metadata": {
        "colab": {
          "base_uri": "https://localhost:8080/"
        },
        "id": "Ak09_D9VPBBR",
        "outputId": "ac1d72f9-f710-4a27-c4e5-38f32b1ee66e"
      },
      "outputs": [
        {
          "name": "stdout",
          "output_type": "stream",
          "text": [
            "{1, 2, 3}\n"
          ]
        }
      ],
      "source": [
        "print(s1-s2)"
      ]
    },
    {
      "cell_type": "code",
      "execution_count": null,
      "metadata": {
        "colab": {
          "base_uri": "https://localhost:8080/"
        },
        "id": "7BeKaARpPCNB",
        "outputId": "8bb705a0-7f5f-4fbc-f46d-b16f8296d1c5"
      },
      "outputs": [
        {
          "name": "stdout",
          "output_type": "stream",
          "text": [
            "{1, 2, 3, 4, 5, 6, 7}\n"
          ]
        }
      ],
      "source": [
        "s1.add(7)\n",
        "print(s1)"
      ]
    },
    {
      "cell_type": "code",
      "execution_count": null,
      "metadata": {
        "colab": {
          "base_uri": "https://localhost:8080/"
        },
        "id": "8ffmpI47PGO_",
        "outputId": "e9f786c6-8549-4e24-a347-42d926f3063e"
      },
      "outputs": [
        {
          "name": "stdout",
          "output_type": "stream",
          "text": [
            "{1, 2, 3, 4, 5, 6, 7, 8, 9}\n"
          ]
        }
      ],
      "source": [
        "s1.update([8,9])\n",
        "print(s1)"
      ]
    },
    {
      "cell_type": "code",
      "execution_count": null,
      "metadata": {
        "colab": {
          "base_uri": "https://localhost:8080/"
        },
        "id": "Wpc097NGPOHg",
        "outputId": "eba93fab-7d93-4321-a7c6-6d97868993d2"
      },
      "outputs": [
        {
          "name": "stdout",
          "output_type": "stream",
          "text": [
            "{1, 3, 4, 5, 6, 7, 8, 9}\n"
          ]
        }
      ],
      "source": [
        "s1.remove(2)\n",
        "print(s1)"
      ]
    },
    {
      "cell_type": "markdown",
      "metadata": {
        "id": "GhJiXvqtCbJT"
      },
      "source": [
        "#연습문제\n"
      ]
    },
    {
      "cell_type": "markdown",
      "metadata": {
        "id": "L0IWxCpGQFmR"
      },
      "source": [
        "***1번 문제***\n",
        "\n",
        "[1,2,3,4,5,1,2]를 요소로 갖는 list를 만들고,\n",
        "\n",
        "중복되는 요소들을 set 자료형을 이용해 삭제한 뒤\n",
        "해당 set의 요소들을 출력해주세요~!\n",
        "\n",
        "출력 예시: {1,2,3,4,5}"
      ]
    },
    {
      "cell_type": "code",
      "execution_count": null,
      "metadata": {
        "id": "rop9z0vRCOAv"
      },
      "outputs": [],
      "source": [
        "list = []"
      ]
    },
    {
      "cell_type": "markdown",
      "metadata": {
        "id": "dcpGj9iDQFLY"
      },
      "source": [
        "***2번 문제***\n",
        "\n",
        "딕셔너리 a에서 'B'에 해당되는 값을 추출하고 삭제해 보자.\n",
        "\n",
        "출력예시:\n",
        "\n",
        "{'A':90, 'C':70}\n",
        "\n",
        "80"
      ]
    },
    {
      "cell_type": "code",
      "execution_count": null,
      "metadata": {
        "id": "jG0YvghxQFa8"
      },
      "outputs": [],
      "source": [
        "a = {'A':90, 'B':80, 'C':70}\n",
        "result =\n",
        "print() #B를 추출한 후 딕셔너리 출력\n",
        "print() #B에 해당되는 값"
      ]
    },
    {
      "cell_type": "markdown",
      "metadata": {
        "id": "O3czv7-8Dhe7"
      },
      "source": [
        "***3번 문제***\n",
        "\n",
        "아래의 표에서, 아이스크림 이름을 키값으로, (가격, 재고) 리스트를 딕셔너리의 값으로 저장하라. 딕셔너리의 이름은 inventory로 한다.  \n",
        "\n",
        "<표>  \n",
        "이름 가격 재고  \n",
        "메로나 300 20  \n",
        "비비빅 400 3  \n",
        "죠스바 250 100\n"
      ]
    },
    {
      "cell_type": "code",
      "execution_count": null,
      "metadata": {
        "id": "Ikmfr7xFDp6j"
      },
      "outputs": [],
      "source": [
        "inventory = { }"
      ]
    }
  ],
  "metadata": {
    "colab": {
      "collapsed_sections": [
        "tWXrus8DBziC",
        "_HrqHEZdH0qr"
      ],
      "provenance": []
    },
    "kernelspec": {
      "display_name": "Python 3",
      "name": "python3"
    },
    "language_info": {
      "name": "python"
    }
  },
  "nbformat": 4,
  "nbformat_minor": 0
}
