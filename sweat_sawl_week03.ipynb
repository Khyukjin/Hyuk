{
  "cells": [
    {
      "cell_type": "markdown",
      "metadata": {
        "id": "-uoL5TfB-oCH"
      },
      "source": [
        "# 변수"
      ],
      "id": "-uoL5TfB-oCH"
    },
    {
      "cell_type": "markdown",
      "metadata": {
        "id": "aT7IDnRf-oCO"
      },
      "source": [
        "데이터를 저장하는 메모리 공간의 이름\n",
        "- 쉽게 데이터에 접근할 수 있도록 메모리 특정 공간에 이름을 붙인 것\n",
        "- 내용을 다른 값으로 갱신할 수 있음"
      ],
      "id": "aT7IDnRf-oCO"
    },
    {
      "cell_type": "markdown",
      "metadata": {
        "id": "npNWgIzx-oCO"
      },
      "source": [
        "변수명 = 저장할 값\n",
        "- ```a=6```과 같이 선언하면, 메모리 어딘가에 주소값을 할당받아 저장\n",
        "- 대소문자 구분에 유의"
      ],
      "id": "npNWgIzx-oCO"
    },
    {
      "cell_type": "markdown",
      "metadata": {
        "id": "Q-MTCjcb-oCO"
      },
      "source": [
        "## 리스트형(List)"
      ],
      "id": "Q-MTCjcb-oCO"
    },
    {
      "cell_type": "markdown",
      "metadata": {
        "id": "rIxuSoUm-oCO"
      },
      "source": [
        "### 리스트형 기본"
      ],
      "id": "rIxuSoUm-oCO"
    },
    {
      "cell_type": "markdown",
      "metadata": {
        "id": "kKXoQSNf-oCO"
      },
      "source": [
        "- 여러 값들을 모아서 저장하는 자료형\n",
        "- 여러 값들을 쉼표(,)로 구분하고 대괄호([ ])로 감싸서 표현<br>\n",
        "  리스트명 = [요소1, 요소2, 요소3, ...]"
      ],
      "id": "kKXoQSNf-oCO"
    },
    {
      "cell_type": "code",
      "execution_count": null,
      "metadata": {
        "outputId": "9a81671d-395e-46f2-cdb5-cb4ce0c1881a",
        "id": "nyp_UNSC-oCO"
      },
      "outputs": [
        {
          "name": "stdout",
          "output_type": "stream",
          "text": [
            "[1, 2, 3, 4, 5]\n"
          ]
        }
      ],
      "source": [
        "a = [1,2,3,4,5]\n",
        "print(a)"
      ],
      "id": "nyp_UNSC-oCO"
    },
    {
      "cell_type": "code",
      "execution_count": null,
      "metadata": {
        "outputId": "547be344-e5ad-467c-9b07-65f7d5223d59",
        "id": "040V0on6-oCO"
      },
      "outputs": [
        {
          "name": "stdout",
          "output_type": "stream",
          "text": [
            "[]\n",
            "[]\n",
            "['Math', 'is', 'hard']\n",
            "[1, 2, 'math']\n",
            "[1, [1, 2], 'math', ['hello,', 'world!']]\n"
          ]
        }
      ],
      "source": [
        "b = []\n",
        "c = list()\n",
        "d = ['Math', 'is', 'hard']\n",
        "e = [1, 2, 'math']\n",
        "f = [1, [1,2], 'math', ['hello,','world!']]\n",
        "print(b,c,d,e,f,sep='\\n')"
      ],
      "id": "040V0on6-oCO"
    },
    {
      "cell_type": "markdown",
      "metadata": {
        "id": "NbvKNZl3-oCO"
      },
      "source": [
        "### 인덱싱"
      ],
      "id": "NbvKNZl3-oCO"
    },
    {
      "cell_type": "code",
      "execution_count": null,
      "metadata": {
        "outputId": "7620f8f5-c0a3-421f-a565-d09a0df3ecb4",
        "id": "Wv80r-LW-oCO"
      },
      "outputs": [
        {
          "name": "stdout",
          "output_type": "stream",
          "text": [
            "[1, 2, 3]\n"
          ]
        }
      ],
      "source": [
        "a = [1,2,3]\n",
        "print(a)"
      ],
      "id": "Wv80r-LW-oCO"
    },
    {
      "cell_type": "code",
      "execution_count": null,
      "metadata": {
        "outputId": "2f882cb0-373f-4881-8938-20c023a2f5e5",
        "id": "drHqEVjE-oCO"
      },
      "outputs": [
        {
          "data": {
            "text/plain": [
              "1"
            ]
          },
          "execution_count": 143,
          "metadata": {},
          "output_type": "execute_result"
        }
      ],
      "source": [
        "a[0]"
      ],
      "id": "drHqEVjE-oCO"
    },
    {
      "cell_type": "code",
      "execution_count": null,
      "metadata": {
        "outputId": "d7d9f766-99fb-4f48-eef1-f3810ad8227f",
        "id": "ggIclnCU-oCP"
      },
      "outputs": [
        {
          "data": {
            "text/plain": [
              "2"
            ]
          },
          "execution_count": 144,
          "metadata": {},
          "output_type": "execute_result"
        }
      ],
      "source": [
        "a[1]"
      ],
      "id": "ggIclnCU-oCP"
    },
    {
      "cell_type": "code",
      "execution_count": null,
      "metadata": {
        "outputId": "e4bfbae2-785e-4573-9345-f405d35be0be",
        "id": "2dDneGsA-oCP"
      },
      "outputs": [
        {
          "data": {
            "text/plain": [
              "3"
            ]
          },
          "execution_count": 145,
          "metadata": {},
          "output_type": "execute_result"
        }
      ],
      "source": [
        "a[2]"
      ],
      "id": "2dDneGsA-oCP"
    },
    {
      "cell_type": "code",
      "execution_count": null,
      "metadata": {
        "outputId": "5a557fd7-0e61-48c8-ff7d-56548b6c0f96",
        "id": "VgwCaFxh-oCP"
      },
      "outputs": [
        {
          "data": {
            "text/plain": [
              "3"
            ]
          },
          "execution_count": 146,
          "metadata": {},
          "output_type": "execute_result"
        }
      ],
      "source": [
        "a[-1]"
      ],
      "id": "VgwCaFxh-oCP"
    },
    {
      "cell_type": "code",
      "execution_count": null,
      "metadata": {
        "outputId": "60a5e383-c6a2-428f-c984-05218c34960a",
        "id": "W-vjgvbG-oCP"
      },
      "outputs": [
        {
          "data": {
            "text/plain": [
              "4"
            ]
          },
          "execution_count": 147,
          "metadata": {},
          "output_type": "execute_result"
        }
      ],
      "source": [
        "a[0] + a[2]"
      ],
      "id": "W-vjgvbG-oCP"
    },
    {
      "cell_type": "code",
      "execution_count": null,
      "metadata": {
        "id": "uswg-gc2-oCP"
      },
      "outputs": [],
      "source": [
        "a = [1,2,3,['a','b']]"
      ],
      "id": "uswg-gc2-oCP"
    },
    {
      "cell_type": "code",
      "execution_count": null,
      "metadata": {
        "outputId": "8edf6e5b-622e-45bb-a6c8-27ac31607d9f",
        "id": "pfYk8lTg-oCP"
      },
      "outputs": [
        {
          "data": {
            "text/plain": [
              "1"
            ]
          },
          "execution_count": 149,
          "metadata": {},
          "output_type": "execute_result"
        }
      ],
      "source": [
        "a[0]"
      ],
      "id": "pfYk8lTg-oCP"
    },
    {
      "cell_type": "code",
      "execution_count": null,
      "metadata": {
        "outputId": "5d8b729a-c500-4ea9-ae0a-c93d4608d5cf",
        "id": "2DRigDnl-oCP"
      },
      "outputs": [
        {
          "data": {
            "text/plain": [
              "2"
            ]
          },
          "execution_count": 150,
          "metadata": {},
          "output_type": "execute_result"
        }
      ],
      "source": [
        "a[1]"
      ],
      "id": "2DRigDnl-oCP"
    },
    {
      "cell_type": "code",
      "execution_count": null,
      "metadata": {
        "outputId": "b9e77a13-fe4e-4285-db07-f70d2fc7d4ec",
        "id": "lPKGIqux-oCP"
      },
      "outputs": [
        {
          "data": {
            "text/plain": [
              "3"
            ]
          },
          "execution_count": 151,
          "metadata": {},
          "output_type": "execute_result"
        }
      ],
      "source": [
        "a[2]"
      ],
      "id": "lPKGIqux-oCP"
    },
    {
      "cell_type": "code",
      "execution_count": null,
      "metadata": {
        "outputId": "22144f95-76e1-47a2-dcba-9ea608ba7c9f",
        "id": "4-V6keId-oCP"
      },
      "outputs": [
        {
          "data": {
            "text/plain": [
              "['a', 'b']"
            ]
          },
          "execution_count": 152,
          "metadata": {},
          "output_type": "execute_result"
        }
      ],
      "source": [
        "a[3]"
      ],
      "id": "4-V6keId-oCP"
    },
    {
      "cell_type": "code",
      "execution_count": null,
      "metadata": {
        "outputId": "1a990e1b-96bb-49b9-b140-5b2054d978fe",
        "id": "CGZj7uhL-oCP"
      },
      "outputs": [
        {
          "data": {
            "text/plain": [
              "'a'"
            ]
          },
          "execution_count": 153,
          "metadata": {},
          "output_type": "execute_result"
        }
      ],
      "source": [
        "a[3][0]"
      ],
      "id": "CGZj7uhL-oCP"
    },
    {
      "cell_type": "markdown",
      "metadata": {
        "id": "F8qcFepc-oCP"
      },
      "source": [
        "### 슬라이싱"
      ],
      "id": "F8qcFepc-oCP"
    },
    {
      "cell_type": "code",
      "execution_count": null,
      "metadata": {
        "id": "gfbbWczY-oCP"
      },
      "outputs": [],
      "source": [
        "a = [1,2,3,4,5,6,7]"
      ],
      "id": "gfbbWczY-oCP"
    },
    {
      "cell_type": "code",
      "execution_count": null,
      "metadata": {
        "outputId": "782ba869-b8d7-41a9-e22d-f1ddff22a8d8",
        "id": "tK8k7wjm-oCP"
      },
      "outputs": [
        {
          "data": {
            "text/plain": [
              "[1, 2]"
            ]
          },
          "execution_count": 155,
          "metadata": {},
          "output_type": "execute_result"
        }
      ],
      "source": [
        "a[0:2]"
      ],
      "id": "tK8k7wjm-oCP"
    },
    {
      "cell_type": "markdown",
      "metadata": {
        "id": "29835c8e"
      },
      "source": [
        "문자열의 슬라이싱과 비교해보기"
      ],
      "id": "29835c8e"
    },
    {
      "cell_type": "code",
      "execution_count": null,
      "metadata": {
        "id": "MQToNrPk-oCQ"
      },
      "outputs": [],
      "source": [
        "a = [1,2,3,['a','b','c','d']]"
      ],
      "id": "MQToNrPk-oCQ"
    },
    {
      "cell_type": "code",
      "execution_count": null,
      "metadata": {
        "outputId": "b91ce1c6-0da8-4e72-def3-ba74049a0610",
        "id": "XCUOXthm-oCQ"
      },
      "outputs": [
        {
          "data": {
            "text/plain": [
              "[3, ['a', 'b', 'c', 'd']]"
            ]
          },
          "execution_count": 157,
          "metadata": {},
          "output_type": "execute_result"
        }
      ],
      "source": [
        "a[2:]"
      ],
      "id": "XCUOXthm-oCQ"
    },
    {
      "cell_type": "code",
      "execution_count": null,
      "metadata": {
        "outputId": "1606060b-3e63-4c6a-bcda-b313fff36b46",
        "id": "gLcpjfpC-oCQ"
      },
      "outputs": [
        {
          "data": {
            "text/plain": [
              "['c', 'd']"
            ]
          },
          "execution_count": 158,
          "metadata": {},
          "output_type": "execute_result"
        }
      ],
      "source": [
        "a[3][2:4]"
      ],
      "id": "gLcpjfpC-oCQ"
    },
    {
      "cell_type": "markdown",
      "metadata": {
        "id": "1ehfWfTN-oCQ"
      },
      "source": [
        "### 리스트의 연산"
      ],
      "id": "1ehfWfTN-oCQ"
    },
    {
      "cell_type": "code",
      "execution_count": null,
      "metadata": {
        "outputId": "fb1e2c74-7a2f-493a-945b-5a3b7dededd0",
        "id": "MHHK-LQb-oCQ"
      },
      "outputs": [
        {
          "data": {
            "text/plain": [
              "[1, 2, 3, 4, 5]"
            ]
          },
          "execution_count": 159,
          "metadata": {},
          "output_type": "execute_result"
        }
      ],
      "source": [
        "a = [1,2]\n",
        "b = [3,4,5]\n",
        "a + b"
      ],
      "id": "MHHK-LQb-oCQ"
    },
    {
      "cell_type": "code",
      "execution_count": null,
      "metadata": {
        "outputId": "be0687a3-fc19-4ad7-a1c3-e8945a5742e7",
        "id": "EaZ09mu0-oCQ"
      },
      "outputs": [
        {
          "data": {
            "text/plain": [
              "[1, 2, 1, 2, 1, 2]"
            ]
          },
          "execution_count": 160,
          "metadata": {},
          "output_type": "execute_result"
        }
      ],
      "source": [
        "a * 3"
      ],
      "id": "EaZ09mu0-oCQ"
    },
    {
      "cell_type": "code",
      "execution_count": null,
      "metadata": {
        "outputId": "4f31d39e-8198-4507-e98a-c3626217221f",
        "id": "GnGpCs4l-oCQ"
      },
      "outputs": [
        {
          "data": {
            "text/plain": [
              "2"
            ]
          },
          "execution_count": 161,
          "metadata": {},
          "output_type": "execute_result"
        }
      ],
      "source": [
        "len(a)"
      ],
      "id": "GnGpCs4l-oCQ"
    },
    {
      "cell_type": "code",
      "execution_count": null,
      "metadata": {
        "id": "k4fijzgW-oCQ"
      },
      "outputs": [],
      "source": [
        "a[1] + 'a'"
      ],
      "id": "k4fijzgW-oCQ"
    },
    {
      "cell_type": "code",
      "execution_count": null,
      "metadata": {
        "outputId": "25120b18-ccf1-48c5-c6b0-ff385b05c169",
        "id": "Zqyny-Xq-oCQ"
      },
      "outputs": [
        {
          "data": {
            "text/plain": [
              "'2a'"
            ]
          },
          "execution_count": 163,
          "metadata": {},
          "output_type": "execute_result"
        }
      ],
      "source": [
        "str(a[1]) + 'a'"
      ],
      "id": "Zqyny-Xq-oCQ"
    },
    {
      "cell_type": "markdown",
      "metadata": {
        "id": "FaQWhv9e-oCQ"
      },
      "source": [
        "### 리스트의 수정 및 삭제"
      ],
      "id": "FaQWhv9e-oCQ"
    },
    {
      "cell_type": "code",
      "execution_count": null,
      "metadata": {
        "id": "UTShUeTy-oCQ"
      },
      "outputs": [],
      "source": [
        "a = [1,2,3,4,5]"
      ],
      "id": "UTShUeTy-oCQ"
    },
    {
      "cell_type": "code",
      "execution_count": null,
      "metadata": {
        "outputId": "f3630061-33d9-407d-f26a-1fbdda074c97",
        "id": "7FAVzvv2-oCR"
      },
      "outputs": [
        {
          "data": {
            "text/plain": [
              "[1, 2, 6, 4, 5]"
            ]
          },
          "execution_count": 165,
          "metadata": {},
          "output_type": "execute_result"
        }
      ],
      "source": [
        "a[2] = 6\n",
        "a"
      ],
      "id": "7FAVzvv2-oCR"
    },
    {
      "cell_type": "code",
      "execution_count": null,
      "metadata": {
        "outputId": "6bc5cd57-df4e-4197-f949-e54ebba9119d",
        "id": "KoFHaJYV-oCR"
      },
      "outputs": [
        {
          "data": {
            "text/plain": [
              "[1, 2, 4, 5]"
            ]
          },
          "execution_count": 166,
          "metadata": {},
          "output_type": "execute_result"
        }
      ],
      "source": [
        "del a[2]\n",
        "a"
      ],
      "id": "KoFHaJYV-oCR"
    },
    {
      "cell_type": "code",
      "execution_count": null,
      "metadata": {
        "outputId": "be41c684-7e8c-4216-d47d-5f1c43126b67",
        "id": "tYMcpR0t-oCR"
      },
      "outputs": [
        {
          "data": {
            "text/plain": [
              "[1, 2]"
            ]
          },
          "execution_count": 167,
          "metadata": {},
          "output_type": "execute_result"
        }
      ],
      "source": [
        "del a[2:]\n",
        "a"
      ],
      "id": "tYMcpR0t-oCR"
    },
    {
      "cell_type": "markdown",
      "metadata": {
        "id": "rP8BsJry-oCS"
      },
      "source": [
        "### 리스트 함수"
      ],
      "id": "rP8BsJry-oCS"
    },
    {
      "cell_type": "markdown",
      "metadata": {
        "id": "23_-d5_A-oCS"
      },
      "source": [
        "- append: 리스트의 맨 뒤에 값을 추가\n",
        "- sort: 리스트 요소를 순서대로 정렬\n",
        "- reverse: 리스트 요소의 순서를 역순으로 재배치\n",
        "- index: 해당 원소가 처음 나오는 인덱스 값을 반환\n",
        "- insert: a번째 위치에 b를 삽입\n",
        "- remove: 첫 번째로 나오는 값을 삭제\n",
        "- pop: 맨 뒤의 값을 리턴하고 해당 값을 삭제\n",
        "- count: 리스트에 포함된 값의 개수 세기\n",
        "- extend: 리스트를 더함 (+와 동일)"
      ],
      "id": "23_-d5_A-oCS"
    },
    {
      "cell_type": "code",
      "execution_count": null,
      "metadata": {
        "id": "Rp4THcrQ-oCS"
      },
      "outputs": [],
      "source": [
        "a = [1,2,3,5,4]"
      ],
      "id": "Rp4THcrQ-oCS"
    },
    {
      "cell_type": "code",
      "execution_count": null,
      "metadata": {
        "outputId": "8ed194f8-ec29-4c8e-9b05-2ed087a801cc",
        "id": "tu0WyBQK-oCS"
      },
      "outputs": [
        {
          "data": {
            "text/plain": [
              "[1, 2, 3, 5, 4, 1]"
            ]
          },
          "execution_count": 172,
          "metadata": {},
          "output_type": "execute_result"
        }
      ],
      "source": [
        "a.append(1)\n",
        "a"
      ],
      "id": "tu0WyBQK-oCS"
    },
    {
      "cell_type": "code",
      "execution_count": null,
      "metadata": {
        "outputId": "8eae2623-2da9-4665-e027-08cc372d8b6b",
        "id": "iH9oEJIb-oCS"
      },
      "outputs": [
        {
          "data": {
            "text/plain": [
              "[1, 1, 2, 3, 4, 5]"
            ]
          },
          "execution_count": 173,
          "metadata": {},
          "output_type": "execute_result"
        }
      ],
      "source": [
        "a.sort()\n",
        "a"
      ],
      "id": "iH9oEJIb-oCS"
    },
    {
      "cell_type": "code",
      "execution_count": null,
      "metadata": {
        "outputId": "2c529a1b-fde7-4b4c-9055-1a2af9422067",
        "id": "PjY9lsjM-oCT"
      },
      "outputs": [
        {
          "data": {
            "text/plain": [
              "[5, 4, 3, 2, 1, 1]"
            ]
          },
          "execution_count": 174,
          "metadata": {},
          "output_type": "execute_result"
        }
      ],
      "source": [
        "a.reverse()\n",
        "a"
      ],
      "id": "PjY9lsjM-oCT"
    },
    {
      "cell_type": "code",
      "execution_count": null,
      "metadata": {
        "outputId": "9285379d-b1da-4bb9-f3f2-f81966c9fa88",
        "id": "4F0o7plt-oCT"
      },
      "outputs": [
        {
          "data": {
            "text/plain": [
              "4"
            ]
          },
          "execution_count": 175,
          "metadata": {},
          "output_type": "execute_result"
        }
      ],
      "source": [
        "a.index(1)"
      ],
      "id": "4F0o7plt-oCT"
    },
    {
      "cell_type": "code",
      "execution_count": null,
      "metadata": {
        "outputId": "4be78984-c8c4-40ac-80a6-27b84e219536",
        "id": "Qi-41Dzu-oCT"
      },
      "outputs": [
        {
          "data": {
            "text/plain": [
              "2"
            ]
          },
          "execution_count": 176,
          "metadata": {},
          "output_type": "execute_result"
        }
      ],
      "source": [
        "a.index(3)"
      ],
      "id": "Qi-41Dzu-oCT"
    },
    {
      "cell_type": "code",
      "execution_count": null,
      "metadata": {
        "outputId": "f00d5991-4cd8-4a11-9552-066fc4d39b04",
        "id": "4rfGmYOn-oCT"
      },
      "outputs": [
        {
          "ename": "ValueError",
          "evalue": "7 is not in list",
          "output_type": "error",
          "traceback": [
            "\u001b[1;31m---------------------------------------------------------------------------\u001b[0m",
            "\u001b[1;31mValueError\u001b[0m                                Traceback (most recent call last)",
            "Cell \u001b[1;32mIn[177], line 1\u001b[0m\n\u001b[1;32m----> 1\u001b[0m \u001b[43ma\u001b[49m\u001b[38;5;241;43m.\u001b[39;49m\u001b[43mindex\u001b[49m\u001b[43m(\u001b[49m\u001b[38;5;241;43m7\u001b[39;49m\u001b[43m)\u001b[49m\n",
            "\u001b[1;31mValueError\u001b[0m: 7 is not in list"
          ]
        }
      ],
      "source": [
        "a.index(7)"
      ],
      "id": "4rfGmYOn-oCT"
    },
    {
      "cell_type": "code",
      "execution_count": null,
      "metadata": {
        "outputId": "aa3953b8-31f1-4242-ca6d-d363e6e5e30f",
        "id": "2EfZvpyj-oCT"
      },
      "outputs": [
        {
          "data": {
            "text/plain": [
              "[5, 5, 4, 3, 2, 1, 1]"
            ]
          },
          "execution_count": 178,
          "metadata": {},
          "output_type": "execute_result"
        }
      ],
      "source": [
        "a.insert(1,5)\n",
        "a"
      ],
      "id": "2EfZvpyj-oCT"
    },
    {
      "cell_type": "code",
      "execution_count": null,
      "metadata": {
        "id": "YCC49ISN-oCT"
      },
      "outputs": [],
      "source": [
        "a = [1,2,3,1,4,2,5]"
      ],
      "id": "YCC49ISN-oCT"
    },
    {
      "cell_type": "code",
      "execution_count": null,
      "metadata": {
        "outputId": "c32a7306-3094-48b2-cd60-f3b7bab06adb",
        "id": "tXu-5UWN-oCT"
      },
      "outputs": [
        {
          "data": {
            "text/plain": [
              "[1, 3, 1, 4, 2, 5]"
            ]
          },
          "execution_count": 180,
          "metadata": {},
          "output_type": "execute_result"
        }
      ],
      "source": [
        "a.remove(2)\n",
        "a"
      ],
      "id": "tXu-5UWN-oCT"
    },
    {
      "cell_type": "code",
      "execution_count": null,
      "metadata": {
        "outputId": "a1f5e5cd-6094-4ff9-9b2d-91f2e339eec2",
        "id": "p7HvatPq-oCT"
      },
      "outputs": [
        {
          "data": {
            "text/plain": [
              "[3, 1, 4, 2, 5]"
            ]
          },
          "execution_count": 181,
          "metadata": {},
          "output_type": "execute_result"
        }
      ],
      "source": [
        "a.remove(1)\n",
        "a"
      ],
      "id": "p7HvatPq-oCT"
    },
    {
      "cell_type": "code",
      "execution_count": null,
      "metadata": {
        "outputId": "47a0715d-756d-4a51-f0df-debda3d22be1",
        "id": "dqq74Fjm-oCT"
      },
      "outputs": [
        {
          "data": {
            "text/plain": [
              "5"
            ]
          },
          "execution_count": 182,
          "metadata": {},
          "output_type": "execute_result"
        }
      ],
      "source": [
        "a.pop()"
      ],
      "id": "dqq74Fjm-oCT"
    },
    {
      "cell_type": "code",
      "execution_count": null,
      "metadata": {
        "outputId": "c22a7269-cbb3-4d7d-ecdf-559002951c71",
        "id": "9NAMRy-X-oCT"
      },
      "outputs": [
        {
          "data": {
            "text/plain": [
              "[3, 1, 4, 2]"
            ]
          },
          "execution_count": 183,
          "metadata": {},
          "output_type": "execute_result"
        }
      ],
      "source": [
        "a"
      ],
      "id": "9NAMRy-X-oCT"
    },
    {
      "cell_type": "code",
      "execution_count": null,
      "metadata": {
        "outputId": "2a2ac816-084e-48fd-9eef-e4a01164fc47",
        "id": "tQ1LV3f_-oCT"
      },
      "outputs": [
        {
          "data": {
            "text/plain": [
              "4"
            ]
          },
          "execution_count": 184,
          "metadata": {},
          "output_type": "execute_result"
        }
      ],
      "source": [
        "a.pop(2)"
      ],
      "id": "tQ1LV3f_-oCT"
    },
    {
      "cell_type": "code",
      "execution_count": null,
      "metadata": {
        "outputId": "0e3a0c07-5a2b-4323-833c-dd918b585439",
        "id": "NwhBhJBp-oCT"
      },
      "outputs": [
        {
          "data": {
            "text/plain": [
              "[3, 1, 2]"
            ]
          },
          "execution_count": 185,
          "metadata": {},
          "output_type": "execute_result"
        }
      ],
      "source": [
        "a"
      ],
      "id": "NwhBhJBp-oCT"
    },
    {
      "cell_type": "code",
      "execution_count": null,
      "metadata": {
        "outputId": "efe3823d-e0c6-49a6-8167-64e35a08d3e9",
        "id": "mUWS-yws-oCT"
      },
      "outputs": [
        {
          "data": {
            "text/plain": [
              "2"
            ]
          },
          "execution_count": 186,
          "metadata": {},
          "output_type": "execute_result"
        }
      ],
      "source": [
        "a = [1,2,3,1,4,2,5]\n",
        "a.count(2)"
      ],
      "id": "mUWS-yws-oCT"
    },
    {
      "cell_type": "code",
      "execution_count": null,
      "metadata": {
        "id": "NhrqH96i-oCU"
      },
      "outputs": [],
      "source": [
        "a.extend([1,2])"
      ],
      "id": "NhrqH96i-oCU"
    },
    {
      "cell_type": "code",
      "execution_count": null,
      "metadata": {
        "outputId": "bc9dd23f-aaec-4be2-88c1-9fd6ef213a08",
        "id": "DdzJ7fdU-oCU"
      },
      "outputs": [
        {
          "data": {
            "text/plain": [
              "[1, 2, 3, 1, 4, 2, 5, 1, 2]"
            ]
          },
          "execution_count": 188,
          "metadata": {},
          "output_type": "execute_result"
        }
      ],
      "source": [
        "a"
      ],
      "id": "DdzJ7fdU-oCU"
    },
    {
      "cell_type": "code",
      "execution_count": null,
      "metadata": {
        "outputId": "bc08c44e-d53d-45ad-a56a-1860398afb18",
        "id": "VOAr9gEP-oCU"
      },
      "outputs": [
        {
          "data": {
            "text/plain": [
              "True"
            ]
          },
          "execution_count": 189,
          "metadata": {},
          "output_type": "execute_result"
        }
      ],
      "source": [
        "1 in a"
      ],
      "id": "VOAr9gEP-oCU"
    },
    {
      "cell_type": "code",
      "execution_count": null,
      "metadata": {
        "outputId": "c558d18a-b51d-43ba-fbce-ff8be234ae7b",
        "id": "DK4Z3L_K-oCU"
      },
      "outputs": [
        {
          "data": {
            "text/plain": [
              "False"
            ]
          },
          "execution_count": 190,
          "metadata": {},
          "output_type": "execute_result"
        }
      ],
      "source": [
        "0 in a"
      ],
      "id": "DK4Z3L_K-oCU"
    },
    {
      "cell_type": "code",
      "execution_count": null,
      "metadata": {
        "outputId": "d5513064-b0b1-4758-df84-aff2def20092",
        "id": "yYxyGOvl-oCU"
      },
      "outputs": [
        {
          "data": {
            "text/plain": [
              "21"
            ]
          },
          "execution_count": 191,
          "metadata": {},
          "output_type": "execute_result"
        }
      ],
      "source": [
        "sum(a) # a의 합 구하기"
      ],
      "id": "yYxyGOvl-oCU"
    },
    {
      "cell_type": "code",
      "execution_count": null,
      "metadata": {
        "outputId": "582492f7-5ae4-4549-bc37-217eac4d6989",
        "id": "PNyr3_EJ-oCU"
      },
      "outputs": [
        {
          "data": {
            "text/plain": [
              "[-4, 1, 2, 3]"
            ]
          },
          "execution_count": 192,
          "metadata": {},
          "output_type": "execute_result"
        }
      ],
      "source": [
        "a = [3,1,-4,2]\n",
        "a.sort()\n",
        "a"
      ],
      "id": "PNyr3_EJ-oCU"
    },
    {
      "cell_type": "code",
      "execution_count": null,
      "metadata": {
        "outputId": "3e799ebd-decc-42fe-f63b-3e000e99b7e3",
        "id": "uP2v8KoW-oCU"
      },
      "outputs": [
        {
          "data": {
            "text/plain": [
              "[-4, 1, 2, 3]"
            ]
          },
          "execution_count": 193,
          "metadata": {},
          "output_type": "execute_result"
        }
      ],
      "source": [
        "a = [3,1,-4,2]\n",
        "sorted(a)"
      ],
      "id": "uP2v8KoW-oCU"
    },
    {
      "cell_type": "code",
      "execution_count": null,
      "metadata": {
        "outputId": "c55ae3f2-c01d-40c0-8e51-c69e9f97ed22",
        "id": "D3XLQp3L-oCU"
      },
      "outputs": [
        {
          "data": {
            "text/plain": [
              "[3, 1, -4, 2]"
            ]
          },
          "execution_count": 194,
          "metadata": {},
          "output_type": "execute_result"
        }
      ],
      "source": [
        "a"
      ],
      "id": "D3XLQp3L-oCU"
    },
    {
      "cell_type": "code",
      "execution_count": null,
      "metadata": {
        "outputId": "1d3a075b-9e74-42a9-f3f5-cab8e7ed3908",
        "id": "Ilr4N-gT-oCU"
      },
      "outputs": [
        {
          "data": {
            "text/plain": [
              "[1, 2, 3, -4]"
            ]
          },
          "execution_count": 195,
          "metadata": {},
          "output_type": "execute_result"
        }
      ],
      "source": [
        "sorted(a, key=abs)"
      ],
      "id": "Ilr4N-gT-oCU"
    },
    {
      "cell_type": "code",
      "execution_count": null,
      "metadata": {
        "outputId": "a10223c6-ddf7-4985-c298-cc5ae5d8e9e6",
        "id": "O6oJoEpP-oCU"
      },
      "outputs": [
        {
          "data": {
            "text/plain": [
              "[-4, 3, 2, 1]"
            ]
          },
          "execution_count": 196,
          "metadata": {},
          "output_type": "execute_result"
        }
      ],
      "source": [
        "sorted(a, key=abs,reverse=True)"
      ],
      "id": "O6oJoEpP-oCU"
    },
    {
      "cell_type": "markdown",
      "metadata": {
        "id": "OUjMWUKJ-oCR"
      },
      "source": [
        "### 리스트 변수 복사"
      ],
      "id": "OUjMWUKJ-oCR"
    },
    {
      "cell_type": "code",
      "execution_count": null,
      "metadata": {
        "outputId": "eb0de573-5198-47b3-94c7-03b1a1adde30",
        "id": "Mrub2h99-oCR"
      },
      "outputs": [
        {
          "name": "stdout",
          "output_type": "stream",
          "text": [
            "[1, 2, 0] [1, 2, 0]\n"
          ]
        }
      ],
      "source": [
        "a = [1,2,3]\n",
        "b = a\n",
        "b[2] = 0\n",
        "print(a,b)"
      ],
      "id": "Mrub2h99-oCR"
    },
    {
      "cell_type": "markdown",
      "metadata": {
        "id": "N4g55sbY-oCR"
      },
      "source": [
        "b = a와 같이 a를 b로 할당하면 a의 값이 b로 전부 입력되는 것이 아니고 b가 a의 주솟값을 참조<br>\n",
        "(b에 a를 할당하면 값이 할당되는 것이 아니라 같은 메모리 주소를 가지므로 b의 원소를 바뀌면 해당 주소의 값을 바꾸어 a의 원소도 바뀜)\n",
        "\n",
        "다른 변수에도 영향을 끼치도록 참조만복사한 것을 얕은 복사라고 함"
      ],
      "id": "N4g55sbY-oCR"
    },
    {
      "cell_type": "code",
      "execution_count": null,
      "metadata": {
        "outputId": "762c00ac-1319-42e5-c160-c48897af72ec",
        "id": "WSLQAr3P-oCR"
      },
      "outputs": [
        {
          "name": "stdout",
          "output_type": "stream",
          "text": [
            "[1, 2, 3] [1, 2, 0]\n"
          ]
        }
      ],
      "source": [
        "a = [1,2,3]\n",
        "b = a[:]\n",
        "b[2] = 0\n",
        "print(a,b)"
      ],
      "id": "WSLQAr3P-oCR"
    },
    {
      "cell_type": "code",
      "execution_count": null,
      "metadata": {
        "outputId": "7d9042c0-a809-4ec6-c36e-93dd9d1272b0",
        "id": "m6U1KblS-oCS"
      },
      "outputs": [
        {
          "name": "stdout",
          "output_type": "stream",
          "text": [
            "[1, 2, 3] [1, 2, 0]\n"
          ]
        }
      ],
      "source": [
        "a = [1,2,3]\n",
        "b = a.copy()\n",
        "b[2] = 0\n",
        "print(a,b)"
      ],
      "id": "m6U1KblS-oCS"
    },
    {
      "cell_type": "markdown",
      "metadata": {
        "id": "2dRIJAYs-oCU"
      },
      "source": [
        "## 튜플형(Tuple)"
      ],
      "id": "2dRIJAYs-oCU"
    },
    {
      "cell_type": "markdown",
      "metadata": {
        "id": "th5ZVJ31-oCU"
      },
      "source": [
        "### 튜플형 기본"
      ],
      "id": "th5ZVJ31-oCU"
    },
    {
      "cell_type": "markdown",
      "metadata": {
        "id": "GH76yUfP-oCU"
      },
      "source": [
        "- 소괄호를 사용하여 정의\n",
        "- 기호 없이도 사용할 수 있으나 쉼표로 값을 구분\n",
        "- 읽기만 가능하고 변경할 수 없음\n",
        "- 인덱싱과 슬라이싱 가능\n",
        "- 요소가 1개일 때는 요소 뒤에 쉼표(,)를 반드시 붙여야 함"
      ],
      "id": "GH76yUfP-oCU"
    },
    {
      "cell_type": "code",
      "execution_count": null,
      "metadata": {
        "outputId": "b0093f0e-42a4-417e-93d9-c5859dc437c7",
        "id": "abDQaDbe-oCU"
      },
      "outputs": [
        {
          "name": "stdout",
          "output_type": "stream",
          "text": [
            "()\n",
            "(1,)\n",
            "(1, 2, 3)\n",
            "(1, 2, 3)\n",
            "(1, 2, 'math')\n",
            "(1, (1, 2), 'math', ['hello,', 'world!'])\n"
          ]
        }
      ],
      "source": [
        "a = ()\n",
        "b = (1,)\n",
        "c = (1,2,3)\n",
        "d = 1,2,3\n",
        "e = (1, 2, 'math')\n",
        "f = (1, (1,2), 'math', ['hello,','world!'])\n",
        "print(a,b,c,d,e,f,sep='\\n')"
      ],
      "id": "abDQaDbe-oCU"
    },
    {
      "cell_type": "code",
      "execution_count": null,
      "metadata": {
        "outputId": "1e469fc0-4851-496b-b806-455592a6b005",
        "id": "Tq0nbJtP-oCV"
      },
      "outputs": [
        {
          "data": {
            "text/plain": [
              "tuple"
            ]
          },
          "execution_count": 198,
          "metadata": {},
          "output_type": "execute_result"
        }
      ],
      "source": [
        "b = (1,)\n",
        "type(b)"
      ],
      "id": "Tq0nbJtP-oCV"
    },
    {
      "cell_type": "code",
      "execution_count": null,
      "metadata": {
        "outputId": "1ae388da-b0b6-411b-e8df-a1599e8648d1",
        "id": "EmxI1SdD-oCV"
      },
      "outputs": [
        {
          "data": {
            "text/plain": [
              "int"
            ]
          },
          "execution_count": 199,
          "metadata": {},
          "output_type": "execute_result"
        }
      ],
      "source": [
        "b = (1) # 튜플이 아님\n",
        "type(b)"
      ],
      "id": "EmxI1SdD-oCV"
    },
    {
      "cell_type": "code",
      "execution_count": null,
      "metadata": {
        "id": "DPhtRCta-oCV"
      },
      "outputs": [],
      "source": [
        "del f[0]"
      ],
      "id": "DPhtRCta-oCV"
    },
    {
      "cell_type": "code",
      "execution_count": null,
      "metadata": {
        "id": "bIwUGXwp-oCV"
      },
      "outputs": [],
      "source": [
        "f[0] = 3"
      ],
      "id": "bIwUGXwp-oCV"
    },
    {
      "cell_type": "markdown",
      "metadata": {
        "id": "C4S-5ZA_-oCV"
      },
      "source": [
        "### 인덱싱과 슬라이싱"
      ],
      "id": "C4S-5ZA_-oCV"
    },
    {
      "cell_type": "code",
      "execution_count": null,
      "metadata": {
        "outputId": "974f958b-504f-4364-ad52-c272aef5d920",
        "id": "I11G4uwm-oCV"
      },
      "outputs": [
        {
          "data": {
            "text/plain": [
              "1"
            ]
          },
          "execution_count": 202,
          "metadata": {},
          "output_type": "execute_result"
        }
      ],
      "source": [
        "f[0]"
      ],
      "id": "I11G4uwm-oCV"
    },
    {
      "cell_type": "code",
      "execution_count": null,
      "metadata": {
        "outputId": "fa31cda1-7f51-4b17-ddf6-439f6de93c47",
        "id": "RJZV8sLD-oCV"
      },
      "outputs": [
        {
          "data": {
            "text/plain": [
              "(1, 2)"
            ]
          },
          "execution_count": 203,
          "metadata": {},
          "output_type": "execute_result"
        }
      ],
      "source": [
        "f[1]"
      ],
      "id": "RJZV8sLD-oCV"
    },
    {
      "cell_type": "code",
      "execution_count": null,
      "metadata": {
        "outputId": "cce445f4-bc20-4a34-af53-495fb8bd7767",
        "id": "u2L20cYl-oCV"
      },
      "outputs": [
        {
          "data": {
            "text/plain": [
              "['hello,', 'world!']"
            ]
          },
          "execution_count": 204,
          "metadata": {},
          "output_type": "execute_result"
        }
      ],
      "source": [
        "f[-1]"
      ],
      "id": "u2L20cYl-oCV"
    },
    {
      "cell_type": "code",
      "execution_count": null,
      "metadata": {
        "outputId": "46fda08a-6e80-4a4f-dfbf-6fb661edded2",
        "id": "XcHPO_i2-oCV"
      },
      "outputs": [
        {
          "data": {
            "text/plain": [
              "((1, 2), 'math', ['hello,', 'world!'])"
            ]
          },
          "execution_count": 205,
          "metadata": {},
          "output_type": "execute_result"
        }
      ],
      "source": [
        "f[1:]"
      ],
      "id": "XcHPO_i2-oCV"
    },
    {
      "cell_type": "code",
      "execution_count": null,
      "metadata": {
        "outputId": "35b7f5e6-9506-432b-9dbf-6514518fd941",
        "id": "xZA2Ere_-oCV"
      },
      "outputs": [
        {
          "data": {
            "text/plain": [
              "'world!'"
            ]
          },
          "execution_count": 206,
          "metadata": {},
          "output_type": "execute_result"
        }
      ],
      "source": [
        "f[-1][1]"
      ],
      "id": "xZA2Ere_-oCV"
    },
    {
      "cell_type": "code",
      "execution_count": null,
      "metadata": {
        "id": "h8YZgug3-oCV"
      },
      "outputs": [],
      "source": [
        "f[-1][1] = 3"
      ],
      "id": "h8YZgug3-oCV"
    },
    {
      "cell_type": "code",
      "execution_count": null,
      "metadata": {
        "outputId": "383314a7-b200-4756-809a-84761afde21e",
        "id": "hMCdIMyX-oCV"
      },
      "outputs": [
        {
          "data": {
            "text/plain": [
              "['hello,', 3]"
            ]
          },
          "execution_count": 208,
          "metadata": {},
          "output_type": "execute_result"
        }
      ],
      "source": [
        "f[-1]"
      ],
      "id": "hMCdIMyX-oCV"
    },
    {
      "cell_type": "code",
      "execution_count": null,
      "metadata": {
        "id": "ReIaCa5U-oCV"
      },
      "outputs": [],
      "source": [
        "f[-1]=3"
      ],
      "id": "ReIaCa5U-oCV"
    },
    {
      "cell_type": "markdown",
      "metadata": {
        "id": "rV5Rq6B5-oCW"
      },
      "source": [
        "### 튜플의 연산"
      ],
      "id": "rV5Rq6B5-oCW"
    },
    {
      "cell_type": "code",
      "execution_count": null,
      "metadata": {
        "outputId": "a9016df2-20af-457b-88c8-15a8afec31fb",
        "id": "Zr-L3LAD-oCW"
      },
      "outputs": [
        {
          "data": {
            "text/plain": [
              "(1, 2, 1, 2, 1, 2)"
            ]
          },
          "execution_count": 210,
          "metadata": {},
          "output_type": "execute_result"
        }
      ],
      "source": [
        "a = (1,2)\n",
        "a * 3"
      ],
      "id": "Zr-L3LAD-oCW"
    },
    {
      "cell_type": "code",
      "execution_count": null,
      "metadata": {
        "outputId": "62ecee7a-66bc-42e4-d5ba-09a11c588f33",
        "id": "pLjG0GVd-oCW"
      },
      "outputs": [
        {
          "data": {
            "text/plain": [
              "(1, 2, 3, 4)"
            ]
          },
          "execution_count": 211,
          "metadata": {},
          "output_type": "execute_result"
        }
      ],
      "source": [
        "b = (3,4)\n",
        "a + b"
      ],
      "id": "pLjG0GVd-oCW"
    },
    {
      "cell_type": "code",
      "execution_count": null,
      "metadata": {
        "outputId": "4d9cd38f-956b-4003-add5-56e854d979eb",
        "id": "aNub8x3m-oCW"
      },
      "outputs": [
        {
          "data": {
            "text/plain": [
              "4"
            ]
          },
          "execution_count": 212,
          "metadata": {},
          "output_type": "execute_result"
        }
      ],
      "source": [
        "len(a+b)"
      ],
      "id": "aNub8x3m-oCW"
    },
    {
      "cell_type": "markdown",
      "metadata": {
        "id": "SU6HOnOC-oCW"
      },
      "source": [
        "튜플은 요소값을 변경할 수 없으므로 sort, insert, remove, pop과 같은 내장 함수가 없음"
      ],
      "id": "SU6HOnOC-oCW"
    },
    {
      "cell_type": "code",
      "execution_count": null,
      "metadata": {
        "id": "3beeb0f9"
      },
      "outputs": [],
      "source": [],
      "id": "3beeb0f9"
    },
    {
      "cell_type": "markdown",
      "source": [
        "## 딕셔너리형(Dictionary)"
      ],
      "metadata": {
        "id": "tWXrus8DBziC"
      },
      "id": "tWXrus8DBziC"
    },
    {
      "cell_type": "code",
      "source": [
        "my_dict = {'name':'홍길동', 'age':'5', 'school':'서당대학교'}"
      ],
      "metadata": {
        "id": "GW4K5M8HBziD"
      },
      "execution_count": null,
      "outputs": [],
      "id": "GW4K5M8HBziD"
    },
    {
      "cell_type": "code",
      "source": [
        "my_dict['name']"
      ],
      "metadata": {
        "id": "8rtWmhdpBziE"
      },
      "execution_count": null,
      "outputs": [],
      "id": "8rtWmhdpBziE"
    },
    {
      "cell_type": "code",
      "source": [
        "my_dict['ID'] = '160026873'\n",
        "my_dict"
      ],
      "metadata": {
        "id": "CxM2azRaBziE"
      },
      "execution_count": null,
      "outputs": [],
      "id": "CxM2azRaBziE"
    },
    {
      "cell_type": "code",
      "source": [
        "del my_dict['age']\n",
        "my_dict"
      ],
      "metadata": {
        "id": "fJQkX95bBziE"
      },
      "execution_count": null,
      "outputs": [],
      "id": "fJQkX95bBziE"
    },
    {
      "cell_type": "code",
      "source": [
        "# 이러면 안돼요!!!!!!!!!!!!!!!!!!!!\n",
        "a = {1:'a',1:'b'}\n",
        "print(a)"
      ],
      "metadata": {
        "id": "C0hobTmFBziF"
      },
      "execution_count": null,
      "outputs": [],
      "id": "C0hobTmFBziF"
    },
    {
      "cell_type": "code",
      "source": [
        "# 이러면 안돼요2!!!!!!!!!!!!!!!!!!!!\n",
        "a = {[1,2]:'a'}"
      ],
      "metadata": {
        "id": "hf--jNeaBziF"
      },
      "execution_count": null,
      "outputs": [],
      "id": "hf--jNeaBziF"
    },
    {
      "cell_type": "code",
      "source": [
        "# 이거는 가능\n",
        "a = {(1,2):'a'}"
      ],
      "metadata": {
        "id": "Ut4iPDEzBziF"
      },
      "execution_count": null,
      "outputs": [],
      "id": "Ut4iPDEzBziF"
    },
    {
      "cell_type": "code",
      "source": [
        "# key 리스트\n",
        "my_dict.keys()"
      ],
      "metadata": {
        "id": "k9rsiuqfBziF"
      },
      "execution_count": null,
      "outputs": [],
      "id": "k9rsiuqfBziF"
    },
    {
      "cell_type": "code",
      "source": [
        "# value 리스트\n",
        "my_dict.???()"
      ],
      "metadata": {
        "id": "a6grt9aQBziF"
      },
      "execution_count": null,
      "outputs": [],
      "id": "a6grt9aQBziF"
    },
    {
      "cell_type": "code",
      "source": [
        "print(list(my_dict.keys()))\n",
        "tuple((my_dict.keys()))"
      ],
      "metadata": {
        "id": "OdglgVNJBziF"
      },
      "execution_count": null,
      "outputs": [],
      "id": "OdglgVNJBziF"
    },
    {
      "cell_type": "code",
      "source": [
        "my_dict.items()"
      ],
      "metadata": {
        "id": "RbGTx8G2BziG"
      },
      "execution_count": null,
      "outputs": [],
      "id": "RbGTx8G2BziG"
    },
    {
      "cell_type": "code",
      "source": [
        "print(my_dict.get('name'))\n",
        "print(my_dict.get('ID'))"
      ],
      "metadata": {
        "id": "xMlOFsVWBziG"
      },
      "execution_count": null,
      "outputs": [],
      "id": "xMlOFsVWBziG"
    },
    {
      "cell_type": "code",
      "source": [
        "print('name' in my_dict)"
      ],
      "metadata": {
        "id": "Ct9hb8UnBziG"
      },
      "execution_count": null,
      "outputs": [],
      "id": "Ct9hb8UnBziG"
    },
    {
      "cell_type": "code",
      "source": [
        "my_dict.clear()"
      ],
      "metadata": {
        "id": "4myc7rysBziG"
      },
      "execution_count": null,
      "outputs": [],
      "id": "4myc7rysBziG"
    },
    {
      "cell_type": "markdown",
      "source": [
        "## 집합형(Set)"
      ],
      "metadata": {
        "id": "_HrqHEZdH0qr"
      },
      "id": "_HrqHEZdH0qr"
    },
    {
      "cell_type": "code",
      "source": [
        "s1 = set([1,2,3])"
      ],
      "metadata": {
        "id": "LfJVgvl-IEAS"
      },
      "id": "LfJVgvl-IEAS",
      "execution_count": null,
      "outputs": []
    },
    {
      "cell_type": "code",
      "source": [
        "print(s1)"
      ],
      "metadata": {
        "colab": {
          "base_uri": "https://localhost:8080/"
        },
        "id": "O8P8eQIUIGtK",
        "outputId": "8747982f-5352-4c63-baeb-4e1abdaac12e"
      },
      "id": "O8P8eQIUIGtK",
      "execution_count": null,
      "outputs": [
        {
          "output_type": "stream",
          "name": "stdout",
          "text": [
            "{1, 2, 3}\n"
          ]
        }
      ]
    },
    {
      "cell_type": "code",
      "source": [
        "l1 = list(s1)\n",
        "t1 = tuple(s1)\n",
        "print(s1, l1, t1)"
      ],
      "metadata": {
        "colab": {
          "base_uri": "https://localhost:8080/"
        },
        "id": "_jZsEvZXIM3D",
        "outputId": "c1a2d4ff-a02a-4791-ef29-697a089a7aa6"
      },
      "id": "_jZsEvZXIM3D",
      "execution_count": null,
      "outputs": [
        {
          "output_type": "stream",
          "name": "stdout",
          "text": [
            "{1, 2, 3} [1, 2, 3] (1, 2, 3)\n"
          ]
        }
      ]
    },
    {
      "cell_type": "code",
      "source": [
        "s1 = set([1,2,3,4,5,6])\n",
        "s2 = set([4,5,6,7,8,9])"
      ],
      "metadata": {
        "id": "pT8xv55iIRm2"
      },
      "id": "pT8xv55iIRm2",
      "execution_count": null,
      "outputs": []
    },
    {
      "cell_type": "code",
      "source": [
        "print(s1&s2)"
      ],
      "metadata": {
        "id": "0YGlZaX-O9i2",
        "colab": {
          "base_uri": "https://localhost:8080/"
        },
        "outputId": "99d883aa-7842-44c7-e13f-214ea65788b7"
      },
      "id": "0YGlZaX-O9i2",
      "execution_count": null,
      "outputs": [
        {
          "output_type": "stream",
          "name": "stdout",
          "text": [
            "{4, 5, 6}\n"
          ]
        }
      ]
    },
    {
      "cell_type": "code",
      "source": [
        "print(s1|s2)"
      ],
      "metadata": {
        "id": "HXCxrgFOO_sL",
        "colab": {
          "base_uri": "https://localhost:8080/"
        },
        "outputId": "df63601c-233c-4ab7-f8d3-54a9fd43ccb7"
      },
      "id": "HXCxrgFOO_sL",
      "execution_count": null,
      "outputs": [
        {
          "output_type": "stream",
          "name": "stdout",
          "text": [
            "{1, 2, 3, 4, 5, 6, 7, 8, 9}\n"
          ]
        }
      ]
    },
    {
      "cell_type": "code",
      "source": [
        "print(s1-s2)"
      ],
      "metadata": {
        "id": "Ak09_D9VPBBR",
        "colab": {
          "base_uri": "https://localhost:8080/"
        },
        "outputId": "ac1d72f9-f710-4a27-c4e5-38f32b1ee66e"
      },
      "id": "Ak09_D9VPBBR",
      "execution_count": null,
      "outputs": [
        {
          "output_type": "stream",
          "name": "stdout",
          "text": [
            "{1, 2, 3}\n"
          ]
        }
      ]
    },
    {
      "cell_type": "code",
      "source": [
        "s1.add(7)\n",
        "print(s1)"
      ],
      "metadata": {
        "id": "7BeKaARpPCNB",
        "colab": {
          "base_uri": "https://localhost:8080/"
        },
        "outputId": "8bb705a0-7f5f-4fbc-f46d-b16f8296d1c5"
      },
      "id": "7BeKaARpPCNB",
      "execution_count": null,
      "outputs": [
        {
          "output_type": "stream",
          "name": "stdout",
          "text": [
            "{1, 2, 3, 4, 5, 6, 7}\n"
          ]
        }
      ]
    },
    {
      "cell_type": "code",
      "source": [
        "s1.update([8,9])\n",
        "print(s1)"
      ],
      "metadata": {
        "id": "8ffmpI47PGO_",
        "colab": {
          "base_uri": "https://localhost:8080/"
        },
        "outputId": "e9f786c6-8549-4e24-a347-42d926f3063e"
      },
      "id": "8ffmpI47PGO_",
      "execution_count": null,
      "outputs": [
        {
          "output_type": "stream",
          "name": "stdout",
          "text": [
            "{1, 2, 3, 4, 5, 6, 7, 8, 9}\n"
          ]
        }
      ]
    },
    {
      "cell_type": "code",
      "source": [
        "s1.remove(2)\n",
        "print(s1)"
      ],
      "metadata": {
        "id": "Wpc097NGPOHg",
        "colab": {
          "base_uri": "https://localhost:8080/"
        },
        "outputId": "eba93fab-7d93-4321-a7c6-6d97868993d2"
      },
      "id": "Wpc097NGPOHg",
      "execution_count": null,
      "outputs": [
        {
          "output_type": "stream",
          "name": "stdout",
          "text": [
            "{1, 3, 4, 5, 6, 7, 8, 9}\n"
          ]
        }
      ]
    },
    {
      "cell_type": "markdown",
      "source": [
        "## 연습문제 두두둥장"
      ],
      "metadata": {
        "id": "4sJncsgOP3tT"
      },
      "id": "4sJncsgOP3tT"
    },
    {
      "cell_type": "markdown",
      "source": [
        "***1번 문제***\n",
        "\n",
        "1,2,3,4,4 라는 뭉텅이를 각각 리스트, 튜플, 딕셔너리, 집합 자료형에 저장하고 출력해보세요.(단, 딕셔너리는 1->'one'처럼 숫자에 해당하는 영어를 value로 저장해보세요. key값 4는 한번만 정의해주세요.)\n",
        "\n",
        "출력예시:\n",
        "\n",
        "[1,2,3,4,4]\n",
        "\n",
        "(1,2,3,4,4)\n",
        "\n",
        "{1: 'one', 2: 'two', 3: 'three', 4: 'four'}\n",
        "\n",
        "\n",
        "{1, 2, 3, 4}"
      ],
      "metadata": {
        "id": "5V4nKaduCMiS"
      },
      "id": "5V4nKaduCMiS"
    },
    {
      "cell_type": "code",
      "source": [],
      "metadata": {
        "id": "p09Vt-k5CMOq"
      },
      "id": "p09Vt-k5CMOq",
      "execution_count": null,
      "outputs": []
    },
    {
      "cell_type": "markdown",
      "source": [
        "***2번 문제***\n",
        "\n",
        "다음 list a에서 숫자 9만 출력되게끔 작성해보세요.\n",
        "\n",
        "출력 예시: 9"
      ],
      "metadata": {
        "id": "Dbokfz8jP-D6"
      },
      "id": "Dbokfz8jP-D6"
    },
    {
      "cell_type": "code",
      "source": [
        "a = [1,2,[3,4],[5,6,[7,[8,9]]]]\n",
        "print()"
      ],
      "metadata": {
        "id": "QZa53i30P8UY"
      },
      "id": "QZa53i30P8UY",
      "execution_count": null,
      "outputs": []
    },
    {
      "cell_type": "markdown",
      "source": [
        "***3번 문제***\n",
        "\n",
        "(1,2,3)이라는 튜플에 4라는 값을 추가하여 (1,2,3,4)처럼 만들어 출력해보자.\n",
        "\n",
        "출력예시: (1,2,3,4)"
      ],
      "metadata": {
        "id": "2p5PgaXBQB-J"
      },
      "id": "2p5PgaXBQB-J"
    },
    {
      "cell_type": "code",
      "source": [
        "tup1 =\n",
        "tup2 ="
      ],
      "metadata": {
        "id": "C3Di8xLvQBYa"
      },
      "id": "C3Di8xLvQBYa",
      "execution_count": null,
      "outputs": []
    },
    {
      "cell_type": "markdown",
      "source": [
        "***4번 문제***\n",
        "\n",
        "딕셔너리 a에서 'B'에 해당되는 값을 추출하고 삭제해 보자.\n",
        "\n",
        "출력예시:\n",
        "\n",
        "{'A':90, 'C':70}\n",
        "\n",
        "80"
      ],
      "metadata": {
        "id": "dcpGj9iDQFLY"
      },
      "id": "dcpGj9iDQFLY"
    },
    {
      "cell_type": "code",
      "source": [
        "a = {'A':90, 'B':80, 'C':70}\n",
        "result =\n",
        "print() #B를 추출한 후 딕셔너리 출력\n",
        "print() #B에 해당되는 값"
      ],
      "metadata": {
        "id": "jG0YvghxQFa8"
      },
      "id": "jG0YvghxQFa8",
      "execution_count": null,
      "outputs": []
    },
    {
      "cell_type": "markdown",
      "source": [
        "***5번 문제***\n",
        "\n",
        "[1,2,3,4,5,1,2]를 요소로 갖는 list를 만들고,\n",
        "\n",
        "중복되는 요소들을 set 자료형을 이용해 삭제한 뒤\n",
        "해당 set의 요소들을 출력해주세요~!\n",
        "\n",
        "출력 예시: {1,2,3,4,5}"
      ],
      "metadata": {
        "id": "L0IWxCpGQFmR"
      },
      "id": "L0IWxCpGQFmR"
    },
    {
      "cell_type": "code",
      "source": [
        "list1 ="
      ],
      "metadata": {
        "id": "bcHKlcMFQF2T"
      },
      "id": "bcHKlcMFQF2T",
      "execution_count": null,
      "outputs": []
    }
  ],
  "metadata": {
    "kernelspec": {
      "display_name": "Python 3 (ipykernel)",
      "language": "python",
      "name": "python3"
    },
    "language_info": {
      "codemirror_mode": {
        "name": "ipython",
        "version": 3
      },
      "file_extension": ".py",
      "mimetype": "text/x-python",
      "name": "python",
      "nbconvert_exporter": "python",
      "pygments_lexer": "ipython3",
      "version": "3.8.16"
    },
    "toc": {
      "base_numbering": 1,
      "nav_menu": {},
      "number_sections": true,
      "sideBar": true,
      "skip_h1_title": false,
      "title_cell": "Table of Contents",
      "title_sidebar": "Contents",
      "toc_cell": false,
      "toc_position": {},
      "toc_section_display": true,
      "toc_window_display": false
    },
    "varInspector": {
      "cols": {
        "lenName": 16,
        "lenType": 16,
        "lenVar": 40
      },
      "kernels_config": {
        "python": {
          "delete_cmd_postfix": "",
          "delete_cmd_prefix": "del ",
          "library": "var_list.py",
          "varRefreshCmd": "print(var_dic_list())"
        },
        "r": {
          "delete_cmd_postfix": ") ",
          "delete_cmd_prefix": "rm(",
          "library": "var_list.r",
          "varRefreshCmd": "cat(var_dic_list()) "
        }
      },
      "types_to_exclude": [
        "module",
        "function",
        "builtin_function_or_method",
        "instance",
        "_Feature"
      ],
      "window_display": false
    },
    "colab": {
      "provenance": [],
      "collapsed_sections": [
        "Q-MTCjcb-oCO",
        "rIxuSoUm-oCO",
        "NbvKNZl3-oCO",
        "F8qcFepc-oCP",
        "1ehfWfTN-oCQ",
        "FaQWhv9e-oCQ",
        "rP8BsJry-oCS",
        "OUjMWUKJ-oCR",
        "2dRIJAYs-oCU",
        "th5ZVJ31-oCU",
        "C4S-5ZA_-oCV",
        "tWXrus8DBziC",
        "_HrqHEZdH0qr"
      ]
    }
  },
  "nbformat": 4,
  "nbformat_minor": 5
}