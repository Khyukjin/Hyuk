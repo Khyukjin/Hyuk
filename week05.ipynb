{
  "nbformat": 4,
  "nbformat_minor": 0,
  "metadata": {
    "colab": {
      "provenance": [],
      "collapsed_sections": [
        "1Yj2PTY4_mjY",
        "Qk44nh0Im2tT"
      ]
    },
    "kernelspec": {
      "name": "python3",
      "display_name": "Python 3"
    },
    "language_info": {
      "name": "python"
    }
  },
  "cells": [
    {
      "cell_type": "markdown",
      "source": [
        "#지난시간 복습문제"
      ],
      "metadata": {
        "id": "0npIWa0u_a3k"
      }
    },
    {
      "cell_type": "markdown",
      "source": [
        "##1번\n",
        " list=[1,2,3,4]\\\n",
        " tuple=(\"사과\", \"바나나\", \"수박\", \"복숭아\")\n",
        "\n",
        "\n"
      ],
      "metadata": {
        "id": "1Yj2PTY4_mjY"
      }
    },
    {
      "cell_type": "markdown",
      "source": [
        "###(1-1)\n",
        "list=[1,2,3,4]에 3을 제거하고, 5를 추가하세요. 그리고 출력해 결과를 확인해보세요.\n"
      ],
      "metadata": {
        "id": "uI6JGBoCLEGD"
      }
    },
    {
      "cell_type": "code",
      "source": [
        "list=[1,2,3,4]\n",
        "\n"
      ],
      "metadata": {
        "id": "w-gMKDtrBOV_"
      },
      "execution_count": null,
      "outputs": []
    },
    {
      "cell_type": "markdown",
      "source": [
        "###(1-2)\n",
        "tuple=(\"사과\", \"바나나\", \"수박\", \"복숭아\")에 딸기를 추가하세요. 그리고 출력해 결과를 확인해보세요."
      ],
      "metadata": {
        "id": "avFM76mBLEeZ"
      }
    },
    {
      "cell_type": "code",
      "source": [
        "tuple=(\"사과\", \"바나나\", \"수박\", \"복숭아\")\n"
      ],
      "metadata": {
        "id": "fNSLGGZSBSSv"
      },
      "execution_count": null,
      "outputs": []
    },
    {
      "cell_type": "markdown",
      "source": [
        "###(1-3)\n",
        "list와 tuple을 set으로 변환시키고, 출력해 결과를 확인해보세요.\n"
      ],
      "metadata": {
        "id": "qZXdPJSILE0f"
      }
    },
    {
      "cell_type": "code",
      "source": [],
      "metadata": {
        "id": "n81VOdrDCzGa"
      },
      "execution_count": null,
      "outputs": []
    },
    {
      "cell_type": "markdown",
      "source": [
        "##2번\n",
        "\n",
        "dictionary= {'사과': 'apple', '바나나': 'banana', '오렌지': 'orange'}\\\n",
        "dictionary에 '체리': 'cherry'를 추가하고, 출력해 결과를 확인해보세요."
      ],
      "metadata": {
        "id": "fhJFdQ5P_oXC"
      }
    },
    {
      "cell_type": "code",
      "source": [
        "dictionary= {'사과': 'apple', '바나나': 'banana', '오렌지': 'orange'}\n"
      ],
      "metadata": {
        "id": "9e9YNQJ7FJA0"
      },
      "execution_count": null,
      "outputs": []
    },
    {
      "cell_type": "markdown",
      "source": [
        "# 조건문\n",
        "\n",
        "\n",
        "*   특정 조건일 때 코드를 실행하는 문법\n",
        "\n",
        "\n",
        "```\n",
        "if 비가 온다면:\n",
        "    우산을 가지고 나간다.\n",
        "```\n",
        "\n",
        "```\n",
        "if 날씨가 춥다면:\n",
        "    코트를 입고 나간다.\n",
        "```\n",
        "\n",
        "\n",
        "\n",
        "\n",
        "    \n",
        "\n",
        "\n",
        "\n"
      ],
      "metadata": {
        "id": "GwbjLgTukgVu"
      }
    },
    {
      "cell_type": "markdown",
      "source": [
        "##if 조건문\n"
      ],
      "metadata": {
        "id": "Qk44nh0Im2tT"
      }
    },
    {
      "cell_type": "markdown",
      "source": [
        "###if 조건문 기본\n",
        "if의 조건이 참(true)일때, if의 코드를 실행한다. \\\n",
        "참이 아니면 if의 코드를 실행하지 않는다.\n",
        "\n",
        "```\n",
        "if 조건식:\n",
        "   조건식이 만족할 때 실행할 코드\n",
        "```"
      ],
      "metadata": {
        "id": "2s_MSfxDryNM"
      }
    },
    {
      "cell_type": "code",
      "source": [
        "x=10\n",
        "if x==10:\n",
        "  print('x는 10 입니다.')"
      ],
      "metadata": {
        "id": "r0e5Xx216ExG"
      },
      "execution_count": null,
      "outputs": []
    },
    {
      "cell_type": "code",
      "source": [
        "weather = \"맑음\"\n",
        "if weather == \"맑음\":\n",
        "    print(\"조깅을 하러 감\")"
      ],
      "metadata": {
        "id": "ZN25cklz6Emk"
      },
      "execution_count": null,
      "outputs": []
    },
    {
      "cell_type": "code",
      "source": [
        "weather = \"비가 옴\"\n",
        "if weather == \"맑음\":\n",
        "    print(\"조깅을 하러 감\")"
      ],
      "metadata": {
        "id": "naMYqpO76EbU"
      },
      "execution_count": null,
      "outputs": []
    },
    {
      "cell_type": "code",
      "source": [
        "weather = \"비가 옴\"\n",
        "if weather == \"비가 옴\":\n",
        "    print(\"우산을 챙김\")"
      ],
      "metadata": {
        "id": "mv1hzq9v7HOD"
      },
      "execution_count": null,
      "outputs": []
    },
    {
      "cell_type": "markdown",
      "source": [
        "논리 연산자 여러 개 사용 가능"
      ],
      "metadata": {
        "id": "d50BCngLw223"
      }
    },
    {
      "cell_type": "code",
      "source": [
        "score=95\n",
        "if score >= 90:\n",
        "    print(\"A등급\")"
      ],
      "metadata": {
        "id": "wsuP7Hhh7Oor"
      },
      "execution_count": null,
      "outputs": []
    },
    {
      "cell_type": "code",
      "source": [
        "score=87\n",
        "if 80 <=score<90 :\n",
        "    print(\"B등급\")"
      ],
      "metadata": {
        "id": "JN8uzelL7Oxo"
      },
      "execution_count": null,
      "outputs": []
    },
    {
      "cell_type": "code",
      "source": [
        "score=90\n",
        "if 80 <=score<90 :\n",
        "    print(\"B등급\")"
      ],
      "metadata": {
        "id": "FS_eAUfw7O5o"
      },
      "execution_count": null,
      "outputs": []
    },
    {
      "cell_type": "markdown",
      "source": [
        "and 논리 연산자를 이용해서도 가능"
      ],
      "metadata": {
        "id": "jIZHEv0lCCn9"
      }
    },
    {
      "cell_type": "code",
      "source": [
        "score=85\n",
        "if 80 <=score and score<90 :\n",
        "    print(\"B등급\")"
      ],
      "metadata": {
        "id": "UdF-woiuBzFN"
      },
      "execution_count": null,
      "outputs": []
    },
    {
      "cell_type": "markdown",
      "source": [
        "###else 추가\n",
        "\n",
        "if의 조건이 참(true)일때,  if의 코드를 실행한다. \\\n",
        "참이 아니면 else의 코드를 실행한다.\n",
        "```\n",
        "if 조건식:\n",
        "   조건식이 만족할 때 실행할 코드\n",
        "   \n",
        "else:\n",
        "   조건식이 만족하지 않을 때 실행할 코드\n",
        "```"
      ],
      "metadata": {
        "id": "ocIJ1bWRromd"
      }
    },
    {
      "cell_type": "code",
      "source": [
        "x=9\n",
        "if x==10:\n",
        "  print('x는 10 입니다.')\n",
        "else:\n",
        "  print('x는 10이 아닙니다.')"
      ],
      "metadata": {
        "id": "qA_x5_7A8Tm1"
      },
      "execution_count": null,
      "outputs": []
    },
    {
      "cell_type": "code",
      "source": [
        "num = float(input(\"숫자를 입력하세요: \"))\n",
        "\n",
        "if num > 0:\n",
        "    print(\"입력한 숫자는 양수입니다.\")\n",
        "else:\n",
        "    print(\"입력한 숫자는 양수가 아닙니다.\")\n"
      ],
      "metadata": {
        "id": "zEZNgX3w8T2w"
      },
      "execution_count": null,
      "outputs": []
    },
    {
      "cell_type": "code",
      "source": [
        "num = int(input(\"숫자를 입력하세요: \"))\n",
        "\n",
        "if num % 2 == 0:\n",
        "    print(\"입력한 숫자는 짝수입니다.\")\n",
        "else:\n",
        "    print(\"입력한 숫자는 홀수입니다.\")\n"
      ],
      "metadata": {
        "id": "fBO0Goqj8T-o"
      },
      "execution_count": null,
      "outputs": []
    },
    {
      "cell_type": "code",
      "source": [
        "num = int(input(\"숫자를 입력하세요: \"))\n",
        "\n",
        "if num % 5 == 0:\n",
        "    print(\"입력한 숫자는 5의 배수입니다.\")\n",
        "else:\n",
        "    print(\"입력한 숫자는 5의 배수가 아닙니다.\")\n"
      ],
      "metadata": {
        "id": "qvy8Tpbm8Tvi"
      },
      "execution_count": null,
      "outputs": []
    },
    {
      "cell_type": "markdown",
      "source": [
        "####조건식이 아닌 값으로 코드 동작"
      ],
      "metadata": {
        "id": "D9MOJCTsxFuU"
      }
    },
    {
      "cell_type": "markdown",
      "source": [
        "파이썬 문법 중에 False로 취급하는 것들\n",
        "\n",
        "\n",
        "1.   None\n",
        "2.   False\n",
        "3.   0인 숫자들\n",
        "4. 비어있는 문자열, 리스트, 튜플, 딕셔너리, 세트 : '',\" \", [ ], ( ), { }, set()\n",
        "\n",
        "그 외의 모든 요소는 True로 취급!\n",
        "\n",
        "\n",
        "\n"
      ],
      "metadata": {
        "id": "MgL8PN88wLkS"
      }
    },
    {
      "cell_type": "code",
      "source": [
        "if 0:\n",
        "  print('참')\n",
        "else:\n",
        "  print('거짓')"
      ],
      "metadata": {
        "id": "cfzgqI5YAwsX"
      },
      "execution_count": null,
      "outputs": []
    },
    {
      "cell_type": "code",
      "source": [
        "if 3:\n",
        "  print('참')\n",
        "else:\n",
        "  print('거짓')"
      ],
      "metadata": {
        "id": "YB1luJQlAwoe"
      },
      "execution_count": null,
      "outputs": []
    },
    {
      "cell_type": "code",
      "source": [
        "if 13.5:\n",
        "  print('참')\n",
        "else:\n",
        "  print('거짓')"
      ],
      "metadata": {
        "id": "_0NiL_NaAwlf"
      },
      "execution_count": null,
      "outputs": []
    },
    {
      "cell_type": "code",
      "source": [
        "if 'hello':\n",
        "  print('참')\n",
        "else:\n",
        "  print('거짓')"
      ],
      "metadata": {
        "id": "DxUovPyLAwij"
      },
      "execution_count": null,
      "outputs": []
    },
    {
      "cell_type": "code",
      "source": [
        "if \"\":\n",
        "  print('참')\n",
        "else:\n",
        "  print('거짓')"
      ],
      "metadata": {
        "id": "xgRS0RqAAwfV"
      },
      "execution_count": null,
      "outputs": []
    },
    {
      "cell_type": "code",
      "source": [
        "if None:\n",
        "  print('참')\n",
        "else:\n",
        "  print('거짓')"
      ],
      "metadata": {
        "id": "rDLyXnX1Awa1"
      },
      "execution_count": null,
      "outputs": []
    },
    {
      "cell_type": "code",
      "source": [
        "if False:\n",
        "  print('참')\n",
        "else:\n",
        "  print('거짓')"
      ],
      "metadata": {
        "id": "7ttluD7CAwXy"
      },
      "execution_count": null,
      "outputs": []
    },
    {
      "cell_type": "code",
      "source": [
        "if [ ]:\n",
        "  print('참')\n",
        "else:\n",
        "  print('거짓')"
      ],
      "metadata": {
        "id": "8T4qJlHaBOUz"
      },
      "execution_count": null,
      "outputs": []
    },
    {
      "cell_type": "code",
      "source": [
        "if ():\n",
        "  print('참')\n",
        "else:\n",
        "  print('거짓')"
      ],
      "metadata": {
        "id": "b4-NNWeoBUBd"
      },
      "execution_count": null,
      "outputs": []
    },
    {
      "cell_type": "code",
      "source": [
        "if {}:\n",
        "  print('참')\n",
        "else:\n",
        "  print('거짓')"
      ],
      "metadata": {
        "id": "ikYGhl8NBUEY"
      },
      "execution_count": null,
      "outputs": []
    },
    {
      "cell_type": "code",
      "source": [
        "if set():\n",
        "  print('참')\n",
        "else:\n",
        "  print('거짓')"
      ],
      "metadata": {
        "id": "u4Jkm3EJBUIq"
      },
      "execution_count": null,
      "outputs": []
    },
    {
      "cell_type": "markdown",
      "source": [
        "###elif 추가\n",
        "\n",
        "if 조건이 참(true)일때, if의 코드를 실행한다. \\\n",
        "if 조건이 참이 아니고, elif 조건이 참일때, elif의 코드를 실행한다. \\\n",
        "위의 조건들이 모두 참이 아니면, else의 코드를 실행한다.\n",
        "\n",
        "```\n",
        "if 조건식1:\n",
        "   조건식1이 만족할 때 실행할 코드\n",
        "\n",
        "elif 조건식2:\n",
        "   조건식2가 만족할 때 실행할 코드\n",
        "\n",
        "else:\n",
        "   위의 조건식을 모두 만족하지 않을 때 실행할 코드\n",
        "\n",
        "\n",
        "```\n",
        "\n",
        "\n"
      ],
      "metadata": {
        "id": "JRCQCSVLnQ5f"
      }
    },
    {
      "cell_type": "code",
      "source": [
        "x=20\n",
        "if x==10:\n",
        "  print('x는 10 입니다.')\n",
        "elif x==20:\n",
        "  print('x는 20 입니다.')\n",
        "else:\n",
        "  print('x는 10도 20도 아닙니다.')"
      ],
      "metadata": {
        "id": "szfhvo9_CTx6"
      },
      "execution_count": null,
      "outputs": []
    },
    {
      "cell_type": "markdown",
      "source": [
        "else가 elif 앞에 오면 잘못된 문법!!"
      ],
      "metadata": {
        "id": "KocD3O3hvs8N"
      }
    },
    {
      "cell_type": "code",
      "source": [
        "x=20\n",
        "if x==10:\n",
        "  print('x는 10 입니다.')\n",
        "\n",
        "else:\n",
        "  print('x는 10도 20도 아닙니다.')\n",
        "elif x==20:\n",
        "  print('x는 20 입니다.')\n",
        "\n"
      ],
      "metadata": {
        "id": "43Wlr-scCTvA"
      },
      "execution_count": null,
      "outputs": []
    },
    {
      "cell_type": "markdown",
      "source": [
        "elif와 else는 단독으로 사용 불가!!"
      ],
      "metadata": {
        "id": "JAlcpNC1vjsk"
      }
    },
    {
      "cell_type": "code",
      "source": [
        "else:\n",
        "  print('x는 10도 20도 아닙니다.')\n",
        "elif x==20:\n",
        "  print('x는 20 입니다.')"
      ],
      "metadata": {
        "id": "1m5L6pIxCTn1"
      },
      "execution_count": null,
      "outputs": []
    },
    {
      "cell_type": "markdown",
      "source": [
        "if와 else는 한 번만 사용가능하지만, elif는 여러 번 사용가능!"
      ],
      "metadata": {
        "id": "UB0tKcYtvyXK"
      }
    },
    {
      "cell_type": "code",
      "source": [
        "button=int(input())\n",
        "if button==1:\n",
        "  print(\"콜라\")\n",
        "elif button==2:\n",
        "  print(\"사이다\")\n",
        "elif button==3:\n",
        "  print(\"환타\")\n",
        "else:\n",
        "  print(\"제공하지 않는 메뉴\")"
      ],
      "metadata": {
        "id": "QXTGXq_6CTsW"
      },
      "execution_count": null,
      "outputs": []
    },
    {
      "cell_type": "code",
      "source": [
        "score1 = float(input(\"첫 번째 과목의 점수를 입력하세요: \"))\n",
        "score2 = float(input(\"두 번째 과목의 점수를 입력하세요: \"))\n",
        "\n",
        "\n",
        "average = (score1 + score2 ) / 2\n",
        "\n",
        "if average >= 90:\n",
        "    print(\"학점: A\")\n",
        "elif 80 <= average < 90:\n",
        "    print(\"학점: B\")\n",
        "elif 70 <= average < 80:\n",
        "    print(\"학점: C\")\n",
        "elif 60 <= average < 70:\n",
        "    print(\"학점: D\")\n",
        "else:\n",
        "    print(\"학점: F\")\n"
      ],
      "metadata": {
        "id": "EgVHFpM-E8iR"
      },
      "execution_count": null,
      "outputs": []
    },
    {
      "cell_type": "markdown",
      "source": [
        "###중첩 if 조건문"
      ],
      "metadata": {
        "id": "S1WFLFNVulsc"
      }
    },
    {
      "cell_type": "code",
      "source": [
        "num = float(input(\"숫자를 입력하세요: \"))\n",
        "\n",
        "if num >= 0:\n",
        "    if num == 0:\n",
        "        print(\"입력한 숫자는 0입니다.\")\n",
        "    else:\n",
        "        print(\"입력한 숫자는 양수입니다.\")\n",
        "else:\n",
        "    print(\"입력한 숫자는 음수입니다.\")\n"
      ],
      "metadata": {
        "id": "Ad5-y2crFP_M"
      },
      "execution_count": null,
      "outputs": []
    },
    {
      "cell_type": "code",
      "source": [
        "num1 = float(input(\"첫 번째 숫자를 입력하세요: \"))\n",
        "num2 = float(input(\"두 번째 숫자를 입력하세요: \"))\n",
        "num3 = float(input(\"세 번째 숫자를 입력하세요: \"))\n",
        "\n",
        "if num1 >= num2:\n",
        "    if num1 >= num3:\n",
        "        print(\"가장 큰 숫자는:\", num1)\n",
        "    else:\n",
        "        print(\"가장 큰 숫자는:\", num3)\n",
        "else:\n",
        "    if num2 >= num3:\n",
        "        print(\"가장 큰 숫자는:\", num2)\n",
        "    else:\n",
        "        print(\"가장 큰 숫자는:\", num3)\n"
      ],
      "metadata": {
        "id": "UoZmQJcXFP3k"
      },
      "execution_count": null,
      "outputs": []
    },
    {
      "cell_type": "markdown",
      "source": [
        "###들여쓰기 주의\n",
        "\n",
        "\n",
        "*   들여쓰기를 잘못하면 의도치 않은 결과가 나올 수 있다.\n",
        "*   에러가 발생할 수 있다.\n",
        "\n"
      ],
      "metadata": {
        "id": "81UEyyjfnhde"
      }
    },
    {
      "cell_type": "code",
      "source": [
        "x=20\n",
        "if x==10:\n",
        "  print('x는 10 입니다.')\n",
        "  else:\n",
        "  print('x는 10이 아닙니다.')"
      ],
      "metadata": {
        "id": "Xdzlzx0dFRR-"
      },
      "execution_count": null,
      "outputs": []
    },
    {
      "cell_type": "code",
      "source": [
        "x=10\n",
        "if x==10:\n",
        "  print('x는 10 입니다.')\n",
        "else:\n",
        "  print('x는 10이 아닙니다.')\n",
        "  print('x의 값을 다시 찾아보세요.')"
      ],
      "metadata": {
        "id": "5qmcGKx9FSBA"
      },
      "execution_count": null,
      "outputs": []
    },
    {
      "cell_type": "code",
      "source": [
        "x=10\n",
        "if x==10:\n",
        "  print('x는 10 입니다.')\n",
        "else:\n",
        "  print('x는 10이 아닙니다.')\n",
        "print('x의 값을 다시 찾아보세요.')"
      ],
      "metadata": {
        "id": "0e48pkuXGIbf"
      },
      "execution_count": null,
      "outputs": []
    },
    {
      "cell_type": "markdown",
      "source": [
        "\n",
        "# 연습문제"
      ],
      "metadata": {
        "id": "Hui4P5KUUfDo"
      }
    },
    {
      "cell_type": "markdown",
      "source": [
        "##1번 문제\n",
        "score가 80점 이상이면 \"합격입니다.\"라고 출력하는 코드를 작성하세요."
      ],
      "metadata": {
        "id": "q2fVSw21bR6L"
      }
    },
    {
      "cell_type": "code",
      "source": [
        "score="
      ],
      "metadata": {
        "id": "cqDBa5ehfORL"
      },
      "execution_count": null,
      "outputs": []
    },
    {
      "cell_type": "markdown",
      "source": [
        "##2번 문제\n",
        "\n",
        "x의 값을 입력받고,\\\n",
        "x가 3의 배수이면 \"3의 배수입니다.\"라고 출력하고,\\\n",
        "x가 5의 배수이면 \"5의 배수입니다.\"라고 출력하고,\\\n",
        "3의 배수도, 5의 배수도 아니라면  \"3의 배수도, 5의 배수도 아닙니다.\"라고 출력하는 코드를 작성하세요."
      ],
      "metadata": {
        "id": "S9mDXHvsUrkt"
      }
    },
    {
      "cell_type": "code",
      "source": [
        "x="
      ],
      "metadata": {
        "id": "luVE9sdofO1L"
      },
      "execution_count": null,
      "outputs": []
    },
    {
      "cell_type": "markdown",
      "source": [
        "##3번 문제\n",
        "한 동물원의 연령대에 따른 입장권 가격은 다음과 같습니다.\n",
        "\n",
        "7세 이하: 무료\\\n",
        "8세부터 18까지 : 20000원\\\n",
        "19세 이상: 30000원\n",
        "\n",
        "연령에 따라 입장권 가격을 출력하는 코드를 작성하시오.\n",
        "\n",
        "[출력예시] \\\n",
        "age : 10\\\n",
        "입장권 가격 : 20000원"
      ],
      "metadata": {
        "id": "_KRMsR1nd7DH"
      }
    },
    {
      "cell_type": "code",
      "source": [
        "age ="
      ],
      "metadata": {
        "id": "aWbbmePRfPnr"
      },
      "execution_count": null,
      "outputs": []
    }
  ]
}